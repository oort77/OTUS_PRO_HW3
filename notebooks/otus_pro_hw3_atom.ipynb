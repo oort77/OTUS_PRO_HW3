{
  "cells": [
    {
      "cell_type": "code",
      "execution_count": null,
      "id": "c54f05a9",
      "metadata": {
        "ExecuteTime": {
          "end_time": "2022-01-15T21:44:09.688620Z",
          "start_time": "2022-01-15T21:44:09.686734Z"
        },
        "id": "c54f05a9"
      },
      "outputs": [],
      "source": [
        "# -*- coding: utf-8 -*-\n",
        "#  File: otus_pro_hw3.ipynb\n",
        "#  Project: 'OTUS PRO Homework #3'\n",
        "#  Created by Gennady Matveev (gm@og.ly) on 14-01-2022."
      ]
    },
    {
      "cell_type": "markdown",
      "id": "e9473043",
      "metadata": {
        "ExecuteTime": {
          "end_time": "2022-01-11T15:40:41.423344Z",
          "start_time": "2022-01-11T15:40:41.308388Z"
        },
        "id": "e9473043"
      },
      "source": [
        "![OTUS.ML.Pro](https://docs.google.com/uc?export=download&id=1WNdJ3EbDWli0UARUhWLwGmC5_RUuIJ7n)\n",
        "<!-- https://drive.google.com/file/d/1WNdJ3EbDWli0UARUhWLwGmC5_RUuIJ7n/view?usp=sharing -->"
      ]
    },
    {
      "cell_type": "markdown",
      "id": "21bb5510",
      "metadata": {
        "ExecuteTime": {
          "end_time": "2022-01-02T13:46:23.992038Z",
          "start_time": "2022-01-02T13:46:23.986201Z"
        },
        "id": "21bb5510"
      },
      "source": [
        "# **$Homework$** **$3$**  \n",
        "**OTUS Machine Learning Professional**"
      ]
    },
    {
      "cell_type": "markdown",
      "id": "fa867b15",
      "metadata": {
        "ExecuteTime": {
          "end_time": "2022-01-02T13:47:36.147285Z",
          "start_time": "2022-01-02T13:47:36.137987Z"
        },
        "id": "fa867b15"
      },
      "source": [
        "Goals:   \n",
        "- Apply **anomaly detection** methods to \"Credit Card Fraud Detection\" dataset\n",
        "- Carry out basic EDA\n",
        "- Use anomaly percentage, calculated by \"Class\" variable, as an \"expert estimate\" of the dataset \"impurity\"\n",
        "- Estimate the quality of models with their predictions and \"Class\" variable, using classificationrt and confusion matrix\n",
        "- Check if anomalies are separated from the rest of data with UMAP/t-sne.\n",
        "\n",
        "Additional goals:  \n",
        "- Try outlier detection methods from ATOM library\n",
        "- Look into PyOD possibilities\n",
        "- Apply voting classifier"
      ]
    },
    {
      "cell_type": "markdown",
      "id": "1768a585",
      "metadata": {
        "ExecuteTime": {
          "end_time": "2022-01-02T13:48:58.411397Z",
          "start_time": "2022-01-02T13:48:58.305933Z"
        },
        "id": "1768a585"
      },
      "source": [
        "Means:  \n",
        "- All meaningful programming will be done in sklearn and ATOM\n",
        "https://tvdboom.github.io/ATOM/about/"
      ]
    },
    {
      "cell_type": "markdown",
      "id": "b1cfb815",
      "metadata": {
        "id": "b1cfb815"
      },
      "source": [
        "Dataset:\n",
        "- Credit Card Fraud Detection \n",
        "https://www.kaggle.com/mlg-ulb/creditcardfraud#creditcard.csv"
      ]
    },
    {
      "cell_type": "markdown",
      "id": "2741da68",
      "metadata": {
        "id": "2741da68"
      },
      "source": [
        "Abbreviations:\n",
        "- EDA: exploratory data analysis\n",
        "- PP: preprocessing\n",
        "- H/Ps: hyperparameters"
      ]
    },
    {
      "cell_type": "markdown",
      "id": "c9d30184",
      "metadata": {
        "id": "c9d30184"
      },
      "source": [
        "<a href=\"https://colab.research.google.com/github/oort77/OTUS_PRO_HW3/blob/main/notebooks/otus_pro_hw3_atom.ipynb\" target=\"_parent\"><img src=\"https://colab.research.google.com/assets/colab-badge.svg\" alt=\"Open In Colab\"/></a> "
      ]
    },
    {
      "cell_type": "markdown",
      "id": "f0d57936",
      "metadata": {
        "id": "f0d57936"
      },
      "source": [
        "### Google colab specific part"
      ]
    },
    {
      "cell_type": "markdown",
      "id": "114f988d",
      "metadata": {
        "id": "114f988d"
      },
      "source": [
        "Please uncomment and run the cell below to install dependencies.  \n",
        "Typical runtime on colab is around 8 minutes (to include installation of libraries ~ 2-3 minutes)."
      ]
    },
    {
      "cell_type": "code",
      "execution_count": null,
      "id": "a03f73ee",
      "metadata": {
        "ExecuteTime": {
          "end_time": "2022-01-15T21:44:09.774854Z",
          "start_time": "2022-01-15T21:44:09.689590Z"
        },
        "id": "a03f73ee"
      },
      "outputs": [],
      "source": [
        "# !pip install -r \"https://drive.google.com/uc?export=download&id=14TOXCFVR7VPnfNiKimcz-BUUaJastb4h\""
      ]
    },
    {
      "cell_type": "markdown",
      "id": "e72253ae",
      "metadata": {
        "ExecuteTime": {
          "end_time": "2022-01-02T13:55:42.779148Z",
          "start_time": "2022-01-02T13:55:42.775713Z"
        },
        "id": "e72253ae"
      },
      "source": [
        "### Import libraries and setup notebook"
      ]
    },
    {
      "cell_type": "code",
      "execution_count": null,
      "id": "98da7bb2",
      "metadata": {
        "ExecuteTime": {
          "end_time": "2022-01-15T21:44:14.943209Z",
          "start_time": "2022-01-15T21:44:09.779084Z"
        },
        "id": "98da7bb2",
        "outputId": "04fa9574-4f8f-46d1-844f-85a75d128195"
      },
      "outputs": [
        {
          "data": {
            "text/html": [
              "        <script type=\"text/javascript\">\n",
              "        window.PlotlyConfig = {MathJaxConfig: 'local'};\n",
              "        if (window.MathJax) {MathJax.Hub.Config({SVG: {font: \"STIX-Web\"}});}\n",
              "        if (typeof require !== 'undefined') {\n",
              "        require.undef(\"plotly\");\n",
              "        requirejs.config({\n",
              "            paths: {\n",
              "                'plotly': ['https://cdn.plot.ly/plotly-2.8.3.min']\n",
              "            }\n",
              "        });\n",
              "        require(['plotly'], function(Plotly) {\n",
              "            window._Plotly = Plotly;\n",
              "        });\n",
              "        }\n",
              "        </script>\n",
              "        "
            ]
          },
          "metadata": {},
          "output_type": "display_data"
        }
      ],
      "source": [
        "import pandas as pd\n",
        "# import terality as te\n",
        "import numpy as np\n",
        "from atom import ATOMClassifier\n",
        "from atom.data_cleaning import Pruner\n",
        "\n",
        "from sklearn.cluster import DBSCAN, KMeans\n",
        "from sklearn.preprocessing import StandardScaler, \\\n",
        "    MinMaxScaler, RobustScaler,FunctionTransformer, KBinsDiscretizer\n",
        "from sklearn.compose import make_column_transformer #ColumnTransformer\n",
        "from sklearn.neighbors import NearestNeighbors\n",
        "from sklearn.metrics import confusion_matrix\n",
        "from sklearn.metrics import classification_report\n",
        "from sklearn.metrics import ConfusionMatrixDisplay\n",
        "from sklearn.metrics import PrecisionRecallDisplay\n",
        "# from sklearn.decomposition import PCA\n",
        "# from sklearn.metrics import silhouette_samples, silhouette_score\n",
        "# from sklearn.manifold import TSNE\n",
        "from umap import UMAP\n",
        "from scipy.spatial.distance import pdist\n",
        "# import pandas_profiling\n",
        "\n",
        "import matplotlib.pyplot as plt\n",
        "import matplotlib.cm as cm\n",
        "import seaborn as sns\n",
        "import cufflinks as cf\n",
        "import plotly.offline\n",
        "cf.go_offline()\n",
        "cf.set_config_file(offline=False, world_readable=True)\n",
        "\n",
        "# from tqdm import tqdm\n",
        "# from time import sleep\n",
        "import random\n",
        "# import re\n",
        "from IPython.core.display import display, HTML\n",
        "import warnings\n"
      ]
    },
    {
      "cell_type": "markdown",
      "id": "b1e9a5dd",
      "metadata": {
        "id": "b1e9a5dd"
      },
      "source": [
        "#### Miscellaneius settings "
      ]
    },
    {
      "cell_type": "code",
      "execution_count": null,
      "id": "05f75f48",
      "metadata": {
        "ExecuteTime": {
          "end_time": "2022-01-15T21:44:14.955822Z",
          "start_time": "2022-01-15T21:44:14.944367Z"
        },
        "id": "05f75f48",
        "outputId": "2122a5e2-b5de-42e4-d879-457fce2e740d"
      },
      "outputs": [
        {
          "data": {
            "text/html": [
              "<style>.container {width:80% !important; }</style>"
            ],
            "text/plain": [
              "<IPython.core.display.HTML object>"
            ]
          },
          "metadata": {},
          "output_type": "display_data"
        }
      ],
      "source": [
        "%matplotlib inline\n",
        "display(HTML(\"<style>.container {width:80% !important; }</style>\"))\n",
        "%config InlineBackend.figure_format = 'retina'\n",
        "plt.rcParams[\"figure.figsize\"]=(12,4)\n",
        "sns.set(rc={'figure.figsize': (12, 4)})\n",
        "warnings.filterwarnings(\"ignore\")\n",
        "pd.options.display.precision = 4\n",
        "pd.set_option(\"display.max_columns\", None)\n",
        "pd.set_option(\"display.max_rows\", None)"
      ]
    },
    {
      "cell_type": "markdown",
      "id": "21f223e6",
      "metadata": {
        "id": "21f223e6"
      },
      "source": [
        "#### ML parameters"
      ]
    },
    {
      "cell_type": "code",
      "execution_count": null,
      "id": "45a2a084",
      "metadata": {
        "ExecuteTime": {
          "end_time": "2022-01-15T21:44:15.119298Z",
          "start_time": "2022-01-15T21:44:14.956796Z"
        },
        "id": "45a2a084"
      },
      "outputs": [],
      "source": [
        "random_state = 17\n",
        "random.seed(random_state)\n",
        "njobs = -1\n",
        "methods =[\"z-score\",\"iForest\",\"EE\",\"LOF\",\"SVM\",\"OPTICS\"] "
      ]
    },
    {
      "cell_type": "markdown",
      "id": "20d2cda1",
      "metadata": {
        "id": "20d2cda1"
      },
      "source": [
        "### Load data"
      ]
    },
    {
      "cell_type": "code",
      "execution_count": null,
      "id": "c3652fb1",
      "metadata": {
        "ExecuteTime": {
          "end_time": "2022-01-15T21:44:17.395556Z",
          "start_time": "2022-01-15T21:44:15.123547Z"
        },
        "id": "c3652fb1",
        "outputId": "5030ca53-c0dd-4bc3-8759-0622503a9d12"
      },
      "outputs": [
        {
          "data": {
            "text/html": [
              "<div>\n",
              "<style scoped>\n",
              "    .dataframe tbody tr th:only-of-type {\n",
              "        vertical-align: middle;\n",
              "    }\n",
              "\n",
              "    .dataframe tbody tr th {\n",
              "        vertical-align: top;\n",
              "    }\n",
              "\n",
              "    .dataframe thead th {\n",
              "        text-align: right;\n",
              "    }\n",
              "</style>\n",
              "<table border=\"1\" class=\"dataframe\">\n",
              "  <thead>\n",
              "    <tr style=\"text-align: right;\">\n",
              "      <th></th>\n",
              "      <th>V1</th>\n",
              "      <th>V2</th>\n",
              "      <th>V3</th>\n",
              "      <th>V4</th>\n",
              "      <th>V5</th>\n",
              "      <th>V6</th>\n",
              "      <th>V7</th>\n",
              "      <th>V8</th>\n",
              "      <th>V9</th>\n",
              "      <th>V10</th>\n",
              "      <th>V11</th>\n",
              "      <th>V12</th>\n",
              "      <th>V13</th>\n",
              "      <th>V14</th>\n",
              "      <th>V15</th>\n",
              "      <th>V16</th>\n",
              "      <th>V17</th>\n",
              "      <th>V18</th>\n",
              "      <th>V19</th>\n",
              "      <th>V20</th>\n",
              "      <th>V21</th>\n",
              "      <th>V22</th>\n",
              "      <th>V23</th>\n",
              "      <th>V24</th>\n",
              "      <th>V25</th>\n",
              "      <th>V26</th>\n",
              "      <th>V27</th>\n",
              "      <th>V28</th>\n",
              "      <th>Amount</th>\n",
              "      <th>Class</th>\n",
              "    </tr>\n",
              "  </thead>\n",
              "  <tbody>\n",
              "    <tr>\n",
              "      <th>0</th>\n",
              "      <td>-1.3598</td>\n",
              "      <td>-0.0728</td>\n",
              "      <td>2.5363</td>\n",
              "      <td>1.3782</td>\n",
              "      <td>-0.3383</td>\n",
              "      <td>0.4624</td>\n",
              "      <td>0.2396</td>\n",
              "      <td>0.0987</td>\n",
              "      <td>0.3638</td>\n",
              "      <td>0.0908</td>\n",
              "      <td>-0.5516</td>\n",
              "      <td>-0.6178</td>\n",
              "      <td>-0.9914</td>\n",
              "      <td>-0.3112</td>\n",
              "      <td>1.4682</td>\n",
              "      <td>-0.4704</td>\n",
              "      <td>0.2080</td>\n",
              "      <td>0.0258</td>\n",
              "      <td>0.4040</td>\n",
              "      <td>0.2514</td>\n",
              "      <td>-0.0183</td>\n",
              "      <td>0.2778</td>\n",
              "      <td>-0.1105</td>\n",
              "      <td>0.0669</td>\n",
              "      <td>0.1285</td>\n",
              "      <td>-0.1891</td>\n",
              "      <td>0.1336</td>\n",
              "      <td>-0.0211</td>\n",
              "      <td>149.62</td>\n",
              "      <td>0.0</td>\n",
              "    </tr>\n",
              "    <tr>\n",
              "      <th>1</th>\n",
              "      <td>1.1919</td>\n",
              "      <td>0.2662</td>\n",
              "      <td>0.1665</td>\n",
              "      <td>0.4482</td>\n",
              "      <td>0.0600</td>\n",
              "      <td>-0.0824</td>\n",
              "      <td>-0.0788</td>\n",
              "      <td>0.0851</td>\n",
              "      <td>-0.2554</td>\n",
              "      <td>-0.1670</td>\n",
              "      <td>1.6127</td>\n",
              "      <td>1.0652</td>\n",
              "      <td>0.4891</td>\n",
              "      <td>-0.1438</td>\n",
              "      <td>0.6356</td>\n",
              "      <td>0.4639</td>\n",
              "      <td>-0.1148</td>\n",
              "      <td>-0.1834</td>\n",
              "      <td>-0.1458</td>\n",
              "      <td>-0.0691</td>\n",
              "      <td>-0.2258</td>\n",
              "      <td>-0.6387</td>\n",
              "      <td>0.1013</td>\n",
              "      <td>-0.3398</td>\n",
              "      <td>0.1672</td>\n",
              "      <td>0.1259</td>\n",
              "      <td>-0.0090</td>\n",
              "      <td>0.0147</td>\n",
              "      <td>2.69</td>\n",
              "      <td>0.0</td>\n",
              "    </tr>\n",
              "    <tr>\n",
              "      <th>2</th>\n",
              "      <td>-1.3584</td>\n",
              "      <td>-1.3402</td>\n",
              "      <td>1.7732</td>\n",
              "      <td>0.3798</td>\n",
              "      <td>-0.5032</td>\n",
              "      <td>1.8005</td>\n",
              "      <td>0.7915</td>\n",
              "      <td>0.2477</td>\n",
              "      <td>-1.5147</td>\n",
              "      <td>0.2076</td>\n",
              "      <td>0.6245</td>\n",
              "      <td>0.0661</td>\n",
              "      <td>0.7173</td>\n",
              "      <td>-0.1659</td>\n",
              "      <td>2.3459</td>\n",
              "      <td>-2.8901</td>\n",
              "      <td>1.1100</td>\n",
              "      <td>-0.1214</td>\n",
              "      <td>-2.2619</td>\n",
              "      <td>0.5250</td>\n",
              "      <td>0.2480</td>\n",
              "      <td>0.7717</td>\n",
              "      <td>0.9094</td>\n",
              "      <td>-0.6893</td>\n",
              "      <td>-0.3276</td>\n",
              "      <td>-0.1391</td>\n",
              "      <td>-0.0554</td>\n",
              "      <td>-0.0598</td>\n",
              "      <td>378.66</td>\n",
              "      <td>0.0</td>\n",
              "    </tr>\n",
              "    <tr>\n",
              "      <th>3</th>\n",
              "      <td>-0.9663</td>\n",
              "      <td>-0.1852</td>\n",
              "      <td>1.7930</td>\n",
              "      <td>-0.8633</td>\n",
              "      <td>-0.0103</td>\n",
              "      <td>1.2472</td>\n",
              "      <td>0.2376</td>\n",
              "      <td>0.3774</td>\n",
              "      <td>-1.3870</td>\n",
              "      <td>-0.0550</td>\n",
              "      <td>-0.2265</td>\n",
              "      <td>0.1782</td>\n",
              "      <td>0.5078</td>\n",
              "      <td>-0.2879</td>\n",
              "      <td>-0.6314</td>\n",
              "      <td>-1.0596</td>\n",
              "      <td>-0.6841</td>\n",
              "      <td>1.9658</td>\n",
              "      <td>-1.2326</td>\n",
              "      <td>-0.2080</td>\n",
              "      <td>-0.1083</td>\n",
              "      <td>0.0053</td>\n",
              "      <td>-0.1903</td>\n",
              "      <td>-1.1756</td>\n",
              "      <td>0.6474</td>\n",
              "      <td>-0.2219</td>\n",
              "      <td>0.0627</td>\n",
              "      <td>0.0615</td>\n",
              "      <td>123.50</td>\n",
              "      <td>0.0</td>\n",
              "    </tr>\n",
              "    <tr>\n",
              "      <th>4</th>\n",
              "      <td>-1.1582</td>\n",
              "      <td>0.8777</td>\n",
              "      <td>1.5487</td>\n",
              "      <td>0.4030</td>\n",
              "      <td>-0.4072</td>\n",
              "      <td>0.0959</td>\n",
              "      <td>0.5929</td>\n",
              "      <td>-0.2705</td>\n",
              "      <td>0.8177</td>\n",
              "      <td>0.7531</td>\n",
              "      <td>-0.8228</td>\n",
              "      <td>0.5382</td>\n",
              "      <td>1.3459</td>\n",
              "      <td>-1.1197</td>\n",
              "      <td>0.1751</td>\n",
              "      <td>-0.4514</td>\n",
              "      <td>-0.2370</td>\n",
              "      <td>-0.0382</td>\n",
              "      <td>0.8035</td>\n",
              "      <td>0.4085</td>\n",
              "      <td>-0.0094</td>\n",
              "      <td>0.7983</td>\n",
              "      <td>-0.1375</td>\n",
              "      <td>0.1413</td>\n",
              "      <td>-0.2060</td>\n",
              "      <td>0.5023</td>\n",
              "      <td>0.2194</td>\n",
              "      <td>0.2152</td>\n",
              "      <td>69.99</td>\n",
              "      <td>0.0</td>\n",
              "    </tr>\n",
              "  </tbody>\n",
              "</table>\n",
              "</div>"
            ],
            "text/plain": [
              "       V1      V2      V3      V4      V5      V6      V7      V8      V9  \\\n",
              "0 -1.3598 -0.0728  2.5363  1.3782 -0.3383  0.4624  0.2396  0.0987  0.3638   \n",
              "1  1.1919  0.2662  0.1665  0.4482  0.0600 -0.0824 -0.0788  0.0851 -0.2554   \n",
              "2 -1.3584 -1.3402  1.7732  0.3798 -0.5032  1.8005  0.7915  0.2477 -1.5147   \n",
              "3 -0.9663 -0.1852  1.7930 -0.8633 -0.0103  1.2472  0.2376  0.3774 -1.3870   \n",
              "4 -1.1582  0.8777  1.5487  0.4030 -0.4072  0.0959  0.5929 -0.2705  0.8177   \n",
              "\n",
              "      V10     V11     V12     V13     V14     V15     V16     V17     V18  \\\n",
              "0  0.0908 -0.5516 -0.6178 -0.9914 -0.3112  1.4682 -0.4704  0.2080  0.0258   \n",
              "1 -0.1670  1.6127  1.0652  0.4891 -0.1438  0.6356  0.4639 -0.1148 -0.1834   \n",
              "2  0.2076  0.6245  0.0661  0.7173 -0.1659  2.3459 -2.8901  1.1100 -0.1214   \n",
              "3 -0.0550 -0.2265  0.1782  0.5078 -0.2879 -0.6314 -1.0596 -0.6841  1.9658   \n",
              "4  0.7531 -0.8228  0.5382  1.3459 -1.1197  0.1751 -0.4514 -0.2370 -0.0382   \n",
              "\n",
              "      V19     V20     V21     V22     V23     V24     V25     V26     V27  \\\n",
              "0  0.4040  0.2514 -0.0183  0.2778 -0.1105  0.0669  0.1285 -0.1891  0.1336   \n",
              "1 -0.1458 -0.0691 -0.2258 -0.6387  0.1013 -0.3398  0.1672  0.1259 -0.0090   \n",
              "2 -2.2619  0.5250  0.2480  0.7717  0.9094 -0.6893 -0.3276 -0.1391 -0.0554   \n",
              "3 -1.2326 -0.2080 -0.1083  0.0053 -0.1903 -1.1756  0.6474 -0.2219  0.0627   \n",
              "4  0.8035  0.4085 -0.0094  0.7983 -0.1375  0.1413 -0.2060  0.5023  0.2194   \n",
              "\n",
              "      V28  Amount  Class  \n",
              "0 -0.0211  149.62    0.0  \n",
              "1  0.0147    2.69    0.0  \n",
              "2 -0.0598  378.66    0.0  \n",
              "3  0.0615  123.50    0.0  \n",
              "4  0.2152   69.99    0.0  "
            ]
          },
          "execution_count": 6,
          "metadata": {},
          "output_type": "execute_result"
        }
      ],
      "source": [
        "!mkdir ../data\n",
        "url = \"https://drive.google.com/uc?id=1Na6k8qB2aIoHQJeXAnCQXG6gDb6W6MtS\"\n",
        "data = pd.read_csv(gdown.download(\n",
        "    url, output=\"../data/archive.zip\", quiet=True), compression=\"zip\")\n",
        "\n",
        "#data = pd.read_csv(\"../data/archive.zip\", compression = \"zip\")\n",
        "\n",
        "#Through away \"Time\" column and convert data to float32\n",
        "data = data.astype(\"float32\").iloc[:,1:]\n",
        "data.reset_index(drop=True, inplace=True)\n",
        "# data.rename(columns={\"index\":\"ID\"},inplace=True)\n",
        "data.head()"
      ]
    },
    {
      "cell_type": "code",
      "execution_count": null,
      "id": "8081ce12",
      "metadata": {
        "id": "8081ce12",
        "outputId": "d0753aa6-3a30-4999-ade0-6f37179f01c0"
      },
      "outputs": [
        {
          "data": {
            "text/html": [
              "<div>\n",
              "<style scoped>\n",
              "    .dataframe tbody tr th:only-of-type {\n",
              "        vertical-align: middle;\n",
              "    }\n",
              "\n",
              "    .dataframe tbody tr th {\n",
              "        vertical-align: top;\n",
              "    }\n",
              "\n",
              "    .dataframe thead th {\n",
              "        text-align: right;\n",
              "    }\n",
              "</style>\n",
              "<table border=\"1\" class=\"dataframe\">\n",
              "  <thead>\n",
              "    <tr style=\"text-align: right;\">\n",
              "      <th></th>\n",
              "      <th>V2</th>\n",
              "      <th>V3</th>\n",
              "      <th>V10</th>\n",
              "      <th>V12</th>\n",
              "      <th>V14</th>\n",
              "      <th>V16</th>\n",
              "      <th>V17</th>\n",
              "      <th>Amount</th>\n",
              "      <th>Class</th>\n",
              "    </tr>\n",
              "  </thead>\n",
              "  <tbody>\n",
              "    <tr>\n",
              "      <th>0</th>\n",
              "      <td>-0.0728</td>\n",
              "      <td>2.5363</td>\n",
              "      <td>0.0908</td>\n",
              "      <td>-0.6178</td>\n",
              "      <td>-0.3112</td>\n",
              "      <td>-0.4704</td>\n",
              "      <td>0.2080</td>\n",
              "      <td>149.62</td>\n",
              "      <td>0.0</td>\n",
              "    </tr>\n",
              "    <tr>\n",
              "      <th>1</th>\n",
              "      <td>0.2662</td>\n",
              "      <td>0.1665</td>\n",
              "      <td>-0.1670</td>\n",
              "      <td>1.0652</td>\n",
              "      <td>-0.1438</td>\n",
              "      <td>0.4639</td>\n",
              "      <td>-0.1148</td>\n",
              "      <td>2.69</td>\n",
              "      <td>0.0</td>\n",
              "    </tr>\n",
              "    <tr>\n",
              "      <th>2</th>\n",
              "      <td>-1.3402</td>\n",
              "      <td>1.7732</td>\n",
              "      <td>0.2076</td>\n",
              "      <td>0.0661</td>\n",
              "      <td>-0.1659</td>\n",
              "      <td>-2.8901</td>\n",
              "      <td>1.1100</td>\n",
              "      <td>378.66</td>\n",
              "      <td>0.0</td>\n",
              "    </tr>\n",
              "    <tr>\n",
              "      <th>3</th>\n",
              "      <td>-0.1852</td>\n",
              "      <td>1.7930</td>\n",
              "      <td>-0.0550</td>\n",
              "      <td>0.1782</td>\n",
              "      <td>-0.2879</td>\n",
              "      <td>-1.0596</td>\n",
              "      <td>-0.6841</td>\n",
              "      <td>123.50</td>\n",
              "      <td>0.0</td>\n",
              "    </tr>\n",
              "    <tr>\n",
              "      <th>4</th>\n",
              "      <td>0.8777</td>\n",
              "      <td>1.5487</td>\n",
              "      <td>0.7531</td>\n",
              "      <td>0.5382</td>\n",
              "      <td>-1.1197</td>\n",
              "      <td>-0.4514</td>\n",
              "      <td>-0.2370</td>\n",
              "      <td>69.99</td>\n",
              "      <td>0.0</td>\n",
              "    </tr>\n",
              "  </tbody>\n",
              "</table>\n",
              "</div>"
            ],
            "text/plain": [
              "       V2      V3     V10     V12     V14     V16     V17  Amount  Class\n",
              "0 -0.0728  2.5363  0.0908 -0.6178 -0.3112 -0.4704  0.2080  149.62    0.0\n",
              "1  0.2662  0.1665 -0.1670  1.0652 -0.1438  0.4639 -0.1148    2.69    0.0\n",
              "2 -1.3402  1.7732  0.2076  0.0661 -0.1659 -2.8901  1.1100  378.66    0.0\n",
              "3 -0.1852  1.7930 -0.0550  0.1782 -0.2879 -1.0596 -0.6841  123.50    0.0\n",
              "4  0.8777  1.5487  0.7531  0.5382 -1.1197 -0.4514 -0.2370   69.99    0.0"
            ]
          },
          "execution_count": 7,
          "metadata": {},
          "output_type": "execute_result"
        }
      ],
      "source": [
        "# Experimental -- drop nearly all but correlated (with \"Class\") columns\n",
        "data = data.loc[:,['V2', 'V3', 'V10', 'V12', 'V14', 'V16', 'V17', 'Amount', 'Class']]\n",
        "data.head()"
      ]
    },
    {
      "cell_type": "markdown",
      "id": "4df4625b",
      "metadata": {
        "id": "4df4625b"
      },
      "source": [
        "#### Choose full or partial dataset"
      ]
    },
    {
      "cell_type": "code",
      "execution_count": null,
      "id": "0a9fc95b",
      "metadata": {
        "ExecuteTime": {
          "end_time": "2022-01-15T21:44:17.429020Z",
          "start_time": "2022-01-15T21:44:17.396509Z"
        },
        "id": "0a9fc95b",
        "outputId": "2c35bccc-29c1-4944-a508-0660761a0e67"
      },
      "outputs": [
        {
          "data": {
            "text/plain": [
              "((284807, 8), (284807,))"
            ]
          },
          "execution_count": 8,
          "metadata": {},
          "output_type": "execute_result"
        }
      ],
      "source": [
        "partial = 0\n",
        "rand_part = 0.1 # for computationally expensive parts\n",
        "# Randomly select rand_part of rows\n",
        "part = sorted(random.choices(range(data.shape[0]), k=int(data.shape[0]*rand_part)))\n",
        "if partial == 0:\n",
        "    X, y = data.iloc[:,:-1], data.iloc[:,-1]\n",
        "else:\n",
        "    X, y = data.iloc[part,:-1], data.iloc[part,-1]\n",
        "X.shape, y.shape"
      ]
    },
    {
      "cell_type": "markdown",
      "id": "d49a18ce",
      "metadata": {
        "id": "d49a18ce"
      },
      "source": [
        "### Composition of classes"
      ]
    },
    {
      "cell_type": "code",
      "execution_count": null,
      "id": "caadbf51",
      "metadata": {
        "ExecuteTime": {
          "end_time": "2022-01-15T21:44:17.507389Z",
          "start_time": "2022-01-15T21:44:17.429966Z"
        },
        "id": "caadbf51",
        "outputId": "9b8270be-ace9-417e-eb5a-94273d63dff2"
      },
      "outputs": [
        {
          "name": "stdout",
          "output_type": "stream",
          "text": [
            "Composition of classes:\n",
            "-----------------------\n",
            "0.0    284315\n",
            "1.0       492\n",
            "Name: Class, dtype: int64\n",
            "\n",
            "\n",
            "Percentages:\n",
            "------------\n",
            "0.0    0.9983\n",
            "1.0    0.0017\n",
            "Name: Class, dtype: float64\n"
          ]
        }
      ],
      "source": [
        "print(f\"Composition of classes:\\n-----------------------\\n{y.value_counts()}\\n\\n\")\n",
        "print(f\"Percentages:\\n------------\\n{y.value_counts(normalize=True)}\")"
      ]
    },
    {
      "cell_type": "markdown",
      "id": "d1246ceb",
      "metadata": {
        "ExecuteTime": {
          "end_time": "2022-01-15T17:20:47.216598Z",
          "start_time": "2022-01-15T17:20:47.216587Z"
        },
        "id": "d1246ceb"
      },
      "source": [
        "<div class=\"alert alert-block alert-success\">\n",
        "<b>\"Class\"</b> column contains 492 fraud values, only 0.17% of the whole dataset. We will use this number as an \"expert estimate\".\n",
        "</div>"
      ]
    },
    {
      "cell_type": "markdown",
      "id": "549e0ffa",
      "metadata": {
        "ExecuteTime": {
          "end_time": "2022-01-02T14:09:58.679218Z",
          "start_time": "2022-01-02T14:09:58.672611Z"
        },
        "id": "549e0ffa"
      },
      "source": [
        "### EDA"
      ]
    },
    {
      "cell_type": "markdown",
      "id": "c55f96b0",
      "metadata": {
        "ExecuteTime": {
          "end_time": "2022-01-15T21:44:17.569337Z",
          "start_time": "2022-01-15T21:44:17.511957Z"
        },
        "id": "c55f96b0"
      },
      "source": [
        "pass"
      ]
    },
    {
      "cell_type": "markdown",
      "id": "0d629ecb",
      "metadata": {
        "id": "0d629ecb"
      },
      "source": [
        "### Preprocessing"
      ]
    },
    {
      "cell_type": "markdown",
      "id": "f2fbe853",
      "metadata": {
        "id": "f2fbe853"
      },
      "source": [
        "####  Create an ATOM classifier instance"
      ]
    },
    {
      "cell_type": "code",
      "execution_count": null,
      "id": "06393a0d",
      "metadata": {
        "ExecuteTime": {
          "end_time": "2022-01-15T21:44:17.929319Z",
          "start_time": "2022-01-15T21:44:17.573552Z"
        },
        "id": "06393a0d",
        "outputId": "f0d13035-b004-4e7e-941f-0c4604663556"
      },
      "outputs": [
        {
          "name": "stdout",
          "output_type": "stream",
          "text": [
            "<< ================== ATOM ================== >>\n",
            "Algorithm task: binary classification.\n",
            "Parallel processing with 8 cores.\n",
            "\n",
            "Dataset stats ==================== >>\n",
            "Shape: (284807, 9)\n",
            "Scaled: False\n",
            "Outlier values: 19113 (1.0%)\n",
            "Duplicate samples: 9144 (3.2%)\n",
            "-------------------------------------\n",
            "Train set size: 213606\n",
            "Test set size: 71201\n",
            "-------------------------------------\n",
            "\n"
          ]
        }
      ],
      "source": [
        "atom = ATOMClassifier(X, y, n_jobs=njobs, test_size=0.25,\n",
        "                      verbose=1, warnings=False, random_state=random_state)"
      ]
    },
    {
      "cell_type": "markdown",
      "id": "8355a6dc",
      "metadata": {
        "id": "8355a6dc"
      },
      "source": [
        "####  Check if it's worth to log numerical features"
      ]
    },
    {
      "cell_type": "code",
      "execution_count": null,
      "id": "9e0cb01c",
      "metadata": {
        "ExecuteTime": {
          "end_time": "2022-01-15T21:44:17.931992Z",
          "start_time": "2022-01-15T21:44:17.930245Z"
        },
        "id": "9e0cb01c"
      },
      "outputs": [],
      "source": [
        "# atom.distribution(\"Amount\")"
      ]
    },
    {
      "cell_type": "code",
      "execution_count": null,
      "id": "eb97cc4d",
      "metadata": {
        "ExecuteTime": {
          "end_time": "2022-01-15T21:44:18.002876Z",
          "start_time": "2022-01-15T21:44:17.932748Z"
        },
        "scrolled": true,
        "id": "eb97cc4d"
      },
      "outputs": [],
      "source": [
        "# atom.plot_qq(\"Amount\", distribution=\"lognorm\")"
      ]
    },
    {
      "cell_type": "code",
      "execution_count": null,
      "id": "f91c4d66",
      "metadata": {
        "ExecuteTime": {
          "end_time": "2022-01-15T21:44:18.077967Z",
          "start_time": "2022-01-15T21:44:18.007180Z"
        },
        "id": "f91c4d66"
      },
      "outputs": [],
      "source": [
        "# atom.plot_distribution(\"Amount\", distribution=\"lognorm\", title = \"Distribution of the 'Amount' feature\", bins=100)"
      ]
    },
    {
      "cell_type": "markdown",
      "id": "c31c7788",
      "metadata": {
        "id": "c31c7788"
      },
      "source": [
        "Define transfoms that may prove to be useful (or not)"
      ]
    },
    {
      "cell_type": "code",
      "execution_count": null,
      "id": "75274226",
      "metadata": {
        "ExecuteTime": {
          "end_time": "2022-01-15T21:44:18.153966Z",
          "start_time": "2022-01-15T21:44:18.082089Z"
        },
        "id": "75274226"
      },
      "outputs": [],
      "source": [
        "def log_transform(x):\n",
        "    return np.log1p(x + 1)\n",
        "\n",
        "log_cols = [\"Amount\"]#, \"Credit amount\", \"Duration\"]\n",
        "log_transformer = FunctionTransformer(log_transform)\n",
        "kb = KBinsDiscretizer(n_bins=10, encode=\"onehot\", strategy=\"quantile\")"
      ]
    },
    {
      "cell_type": "markdown",
      "id": "8cb04394",
      "metadata": {
        "ExecuteTime": {
          "end_time": "2022-01-09T21:23:41.257138Z",
          "start_time": "2022-01-09T21:23:41.173751Z"
        },
        "id": "8cb04394"
      },
      "source": [
        "#### PP sequence"
      ]
    },
    {
      "cell_type": "markdown",
      "id": "b5b09ec1",
      "metadata": {
        "ExecuteTime": {
          "end_time": "2022-01-11T00:52:17.022585Z",
          "start_time": "2022-01-11T00:52:17.014139Z"
        },
        "id": "b5b09ec1"
      },
      "source": [
        "Choice of preprocessing steps strongly affects clustering results. Feel free to play."
      ]
    },
    {
      "cell_type": "code",
      "execution_count": null,
      "id": "4c44e953",
      "metadata": {
        "id": "4c44e953"
      },
      "outputs": [],
      "source": [
        "def log_transform(x):\n",
        "    return np.log1p(x)\n",
        "\n",
        "log_cols = [\"Amount\"] #\"Age\", \"Duration\"\n",
        "log_transformer = FunctionTransformer(log_transform)\n",
        "log1pt = make_column_transformer((log_transformer, log_cols), #[\"Credit amount\"]\n",
        "                          remainder='passthrough')"
      ]
    },
    {
      "cell_type": "code",
      "execution_count": null,
      "id": "bb56cd7e",
      "metadata": {
        "ExecuteTime": {
          "end_time": "2022-01-15T21:44:18.403581Z",
          "start_time": "2022-01-15T21:44:18.158020Z"
        },
        "id": "bb56cd7e",
        "outputId": "426b7a55-a716-4286-924e-d08bf4c3a5b1"
      },
      "outputs": [
        {
          "name": "stdout",
          "output_type": "stream",
          "text": [
            "Applying data cleaning...\n",
            "Fitting ColumnTransformer...\n",
            "Applying ColumnTransformer to the dataset...\n",
            "Fitting StandardScaler...\n",
            "Applying StandardScaler to the dataset...\n",
            "Making features Gaussian-like...\n"
          ]
        }
      ],
      "source": [
        "# atom.impute(strat_cat=\"unknown\")\n",
        "atom.clean(drop_duplicates=True)\n",
        "# atom.encode()  # frac_to_other=0.05)\n",
        "atom.add(log1pt)\n",
        "# atom.add(kb, columns = log_cols)\n",
        "atom.add(StandardScaler())\n",
        "# atom.add(RobustScaler())\n",
        "# atom.add(MinMaxScaler())\n",
        "\n",
        "# cols=list(atom.X_train.columns)\n",
        "# cols.remove(\"ID\")\n",
        "# rscaler = ColumnTransformer(\n",
        "#         [(\"rs\", RobustScaler(), cols)],\n",
        "#         remainder=\"passthrough\")\n",
        "# atom.add(rscaler, columns=cols)\n",
        "\n",
        "atom.gauss()\n",
        "# atom.add(kb, columns = log_cols)"
      ]
    },
    {
      "cell_type": "code",
      "execution_count": null,
      "id": "dad54342",
      "metadata": {
        "id": "dad54342",
        "outputId": "ff9d3f2c-1c1d-47b5-d234-b504392c5cc9"
      },
      "outputs": [
        {
          "data": {
            "image/png": "[encoded data removed]",
            "text/plain": [
              "<Figure size 720x432 with 1 Axes>"
            ]
          },
          "metadata": {
            "image/png": {
              "height": 421,
              "width": 709
            }
          },
          "output_type": "display_data"
        }
      ],
      "source": [
        "atom.plot_distribution(\"Amount\", distribution=\"norm\", title = \"Distribution of the 'Amount' \\nfeature after log transform\", bins=100)"
      ]
    },
    {
      "cell_type": "code",
      "execution_count": null,
      "id": "042e4a1b",
      "metadata": {
        "ExecuteTime": {
          "end_time": "2022-01-15T21:44:18.410961Z",
          "start_time": "2022-01-15T21:44:18.404604Z"
        },
        "id": "042e4a1b",
        "outputId": "2e337c22-4454-4cbd-e0e1-6a27383c08e1"
      },
      "outputs": [
        {
          "data": {
            "text/plain": [
              "213606"
            ]
          },
          "execution_count": 18,
          "metadata": {},
          "output_type": "execute_result"
        }
      ],
      "source": [
        "atom.X_train.shape[0]"
      ]
    },
    {
      "cell_type": "code",
      "execution_count": null,
      "id": "8832ba4d",
      "metadata": {
        "ExecuteTime": {
          "end_time": "2022-01-15T21:44:18.510612Z",
          "start_time": "2022-01-15T21:44:18.411866Z"
        },
        "id": "8832ba4d",
        "outputId": "501ba449-3216-4f87-d026-636ecec8a926"
      },
      "outputs": [
        {
          "data": {
            "text/html": [
              "<div>\n",
              "<style scoped>\n",
              "    .dataframe tbody tr th:only-of-type {\n",
              "        vertical-align: middle;\n",
              "    }\n",
              "\n",
              "    .dataframe tbody tr th {\n",
              "        vertical-align: top;\n",
              "    }\n",
              "\n",
              "    .dataframe thead th {\n",
              "        text-align: right;\n",
              "    }\n",
              "</style>\n",
              "<table border=\"1\" class=\"dataframe\">\n",
              "  <thead>\n",
              "    <tr style=\"text-align: right;\">\n",
              "      <th></th>\n",
              "      <th>V2</th>\n",
              "      <th>V3</th>\n",
              "      <th>V10</th>\n",
              "      <th>V12</th>\n",
              "      <th>V14</th>\n",
              "      <th>V16</th>\n",
              "      <th>V17</th>\n",
              "      <th>Amount</th>\n",
              "    </tr>\n",
              "  </thead>\n",
              "  <tbody>\n",
              "    <tr>\n",
              "      <th>0</th>\n",
              "      <td>-1.5596</td>\n",
              "      <td>0.0629</td>\n",
              "      <td>-0.8342</td>\n",
              "      <td>-0.3506</td>\n",
              "      <td>-1.3243</td>\n",
              "      <td>1.8937</td>\n",
              "      <td>-0.3974</td>\n",
              "      <td>0.1093</td>\n",
              "    </tr>\n",
              "    <tr>\n",
              "      <th>1</th>\n",
              "      <td>1.5299</td>\n",
              "      <td>-1.1152</td>\n",
              "      <td>0.3694</td>\n",
              "      <td>0.5189</td>\n",
              "      <td>0.1804</td>\n",
              "      <td>-0.6253</td>\n",
              "      <td>1.9325</td>\n",
              "      <td>-0.1198</td>\n",
              "    </tr>\n",
              "    <tr>\n",
              "      <th>2</th>\n",
              "      <td>-1.0339</td>\n",
              "      <td>-0.1133</td>\n",
              "      <td>-1.0704</td>\n",
              "      <td>0.0627</td>\n",
              "      <td>-0.2140</td>\n",
              "      <td>0.5860</td>\n",
              "      <td>-0.2450</td>\n",
              "      <td>-0.6420</td>\n",
              "    </tr>\n",
              "    <tr>\n",
              "      <th>3</th>\n",
              "      <td>0.3254</td>\n",
              "      <td>-0.4710</td>\n",
              "      <td>0.2028</td>\n",
              "      <td>-0.1723</td>\n",
              "      <td>-1.0814</td>\n",
              "      <td>0.6505</td>\n",
              "      <td>-1.9177</td>\n",
              "      <td>0.3256</td>\n",
              "    </tr>\n",
              "    <tr>\n",
              "      <th>4</th>\n",
              "      <td>-1.4457</td>\n",
              "      <td>-0.2008</td>\n",
              "      <td>0.1779</td>\n",
              "      <td>0.0426</td>\n",
              "      <td>-0.1621</td>\n",
              "      <td>0.6233</td>\n",
              "      <td>0.8955</td>\n",
              "      <td>-0.7913</td>\n",
              "    </tr>\n",
              "  </tbody>\n",
              "</table>\n",
              "</div>"
            ],
            "text/plain": [
              "       V2      V3     V10     V12     V14     V16     V17  Amount\n",
              "0 -1.5596  0.0629 -0.8342 -0.3506 -1.3243  1.8937 -0.3974  0.1093\n",
              "1  1.5299 -1.1152  0.3694  0.5189  0.1804 -0.6253  1.9325 -0.1198\n",
              "2 -1.0339 -0.1133 -1.0704  0.0627 -0.2140  0.5860 -0.2450 -0.6420\n",
              "3  0.3254 -0.4710  0.2028 -0.1723 -1.0814  0.6505 -1.9177  0.3256\n",
              "4 -1.4457 -0.2008  0.1779  0.0426 -0.1621  0.6233  0.8955 -0.7913"
            ]
          },
          "execution_count": 19,
          "metadata": {},
          "output_type": "execute_result"
        }
      ],
      "source": [
        "atom.X_train.head()\n",
        "# atom.X_train.shape\n",
        "\n",
        "# cols"
      ]
    },
    {
      "cell_type": "markdown",
      "id": "ce15c4fa",
      "metadata": {
        "id": "ce15c4fa"
      },
      "source": [
        "#### Transformed dataset"
      ]
    },
    {
      "cell_type": "code",
      "execution_count": null,
      "id": "58f8d904",
      "metadata": {
        "ExecuteTime": {
          "end_time": "2022-01-15T21:46:58.762546Z",
          "start_time": "2022-01-15T21:46:58.516702Z"
        },
        "id": "58f8d904",
        "outputId": "8888a4a0-ed68-4c44-f08a-df5828d931a3"
      },
      "outputs": [
        {
          "data": {
            "application/vnd.plotly.v1+json": {
              "config": {
                "linkText": "Export to plot.ly",
                "plotlyServerURL": "https://plot.ly",
                "showLink": true
              },
              "data": [
                {
                  "line": {
                    "color": "rgba(255, 153, 51, 1.0)",
                    "dash": "solid",
                    "shape": "linear",
                    "width": 1.3
                  },
                  "mode": "lines",
                  "name": "V2",
                  "text": "",
                  "type": "scatter",
                  "x": [
                    0,
                    1,
                    2,
                    3,
                    4,
                    5,
                    6,
                    7,
                    8,
                    9,
                    10,
                    11,
                    12,
                    13,
                    14,
                    15,
                    16,
                    17,
                    18,
                    19,
                    20,
                    21,
                    22,
                    23,
                    24,
                    25,
                    26,
                    27,
                    28,
                    29,
                    30,
                    31,
                    32,
                    33,
                    34,
                    35,
                    36,
                    37,
                    38,
                    39,
                    40,
                    41,
                    42,
                    43,
                    44,
                    45,
                    46,
                    47,
                    48,
                    49,
                    50,
                    51,
                    52,
                    53,
                    54,
                    55,
                    56,
                    57,
                    58,
                    59,
                    60,
                    61,
                    62,
                    63,
                    64,
                    65,
                    66,
                    67,
                    68,
                    69,
                    70,
                    71,
                    72,
                    73,
                    74,
                    75,
                    76,
                    77,
                    78,
                    79,
                    80,
                    81,
                    82,
                    83,
                    84,
                    85,
                    86,
                    87,
                    88,
                    89,
                    90,
                    91,
                    92,
                    93,
                    94,
                    95,
                    96,
                    97,
                    98,
                    99
                  ],
                  "y": [
                    -1.5595759,
                    1.5299487,
                    -1.0338732,
                    0.32535982,
                    -1.445734,
                    -0.46410665,
                    1.2013134,
                    -0.46410665,
                    0.2012065,
                    -1.5595759,
                    1.1050092,
                    0.17428325,
                    -1.5595759,
                    0.3210143,
                    0.62239355,
                    -1.5595759,
                    1.9669949,
                    -0.3661573,
                    -1.0956262,
                    -0.61287874,
                    -1.1100315,
                    -0.62021255,
                    1.5192033,
                    -0.64582354,
                    -0.19403,
                    0.62239355,
                    1.3135864,
                    1.7264944,
                    1.7610854,
                    0.09090593,
                    -1.5966821,
                    -0.96466166,
                    0.19337337,
                    -0.23167138,
                    1.4707689,
                    1.5542393,
                    -1.5595759,
                    -1.2991999,
                    0.21330473,
                    1.3886871,
                    1.0156114,
                    0.48122564,
                    1.2048556,
                    0.34154972,
                    0.86977845,
                    0.5743708,
                    -0.90466917,
                    -0.293428,
                    -1.5595759,
                    0.5809939,
                    -0.23011905,
                    -0.52475274,
                    0.32685068,
                    -1.2991999,
                    -0.20210926,
                    -0.5899817,
                    -1.3420681,
                    0.25392136,
                    1.3909488,
                    0.8700648,
                    1.9156246,
                    0.59522444,
                    0.19337337,
                    -2.0169067,
                    -0.90466917,
                    0.31161225,
                    1.4382943,
                    1.0782965,
                    1.072494,
                    -1.5595759,
                    0.7320972,
                    -0.11812754,
                    0.17331201,
                    -1.1605704,
                    -0.46353522,
                    0.5249803,
                    0.11290494,
                    -1.5595759,
                    -1.6434829,
                    -1.5595759,
                    -0.46353522,
                    -0.20396091,
                    -0.6261435,
                    0.03615223,
                    -0.00786597,
                    -1.3420681,
                    0.31084725,
                    0.9743367,
                    -1.5595759,
                    0.29312322,
                    1.0441859,
                    1.0415325,
                    -0.665359,
                    1.4983302,
                    -0.2498183,
                    -1.2991999,
                    -1.6434829,
                    -1.1035886,
                    -0.42912742,
                    1.6359366
                  ]
                },
                {
                  "line": {
                    "color": "rgba(55, 128, 191, 1.0)",
                    "dash": "solid",
                    "shape": "linear",
                    "width": 1.3
                  },
                  "mode": "lines",
                  "name": "V3",
                  "text": "",
                  "type": "scatter",
                  "x": [
                    0,
                    1,
                    2,
                    3,
                    4,
                    5,
                    6,
                    7,
                    8,
                    9,
                    10,
                    11,
                    12,
                    13,
                    14,
                    15,
                    16,
                    17,
                    18,
                    19,
                    20,
                    21,
                    22,
                    23,
                    24,
                    25,
                    26,
                    27,
                    28,
                    29,
                    30,
                    31,
                    32,
                    33,
                    34,
                    35,
                    36,
                    37,
                    38,
                    39,
                    40,
                    41,
                    42,
                    43,
                    44,
                    45,
                    46,
                    47,
                    48,
                    49,
                    50,
                    51,
                    52,
                    53,
                    54,
                    55,
                    56,
                    57,
                    58,
                    59,
                    60,
                    61,
                    62,
                    63,
                    64,
                    65,
                    66,
                    67,
                    68,
                    69,
                    70,
                    71,
                    72,
                    73,
                    74,
                    75,
                    76,
                    77,
                    78,
                    79,
                    80,
                    81,
                    82,
                    83,
                    84,
                    85,
                    86,
                    87,
                    88,
                    89,
                    90,
                    91,
                    92,
                    93,
                    94,
                    95,
                    96,
                    97,
                    98,
                    99
                  ],
                  "y": [
                    0.062925026,
                    -1.1151786,
                    -0.11329786,
                    -0.47104254,
                    -0.20077035,
                    0.51763636,
                    -0.55708706,
                    -0.34728643,
                    0.6169953,
                    -0.05820212,
                    -0.6620082,
                    -0.32655925,
                    0.32807112,
                    0.4389217,
                    -0.0149209425,
                    -0.22687408,
                    -1.657531,
                    -0.021407353,
                    0.671741,
                    0.4605821,
                    -0.16074038,
                    0.45338005,
                    -1.0090785,
                    0.53149146,
                    -2.2172573,
                    -0.43277007,
                    -0.15350847,
                    -1.0901659,
                    -0.90706575,
                    0.8478028,
                    0.6951919,
                    -0.6268183,
                    -0.11282461,
                    -0.49411952,
                    0.505807,
                    -1.0358897,
                    0.76410234,
                    -0.1519296,
                    -0.003297237,
                    -0.3812633,
                    0.013648055,
                    -0.038057644,
                    -0.14823382,
                    -0.34055886,
                    0.17304143,
                    -0.18860303,
                    0.5745413,
                    -0.57419145,
                    1.349815,
                    -0.9153834,
                    -0.24634917,
                    0.09979509,
                    -0.023252008,
                    0.71765256,
                    0.87812114,
                    1.0040392,
                    0.7760092,
                    0.16200823,
                    -0.18511242,
                    -0.25931308,
                    -1.4183879,
                    0.47828048,
                    -0.53825027,
                    0.14751957,
                    0.61045915,
                    -0.77849185,
                    0.16285427,
                    -0.2604362,
                    0.22697261,
                    0.12349839,
                    0.0012608096,
                    0.36004058,
                    2.5116377,
                    0.331212,
                    0.015839001,
                    -0.48728463,
                    -0.63397,
                    0.2946755,
                    1.0880786,
                    0.07728913,
                    -0.3561017,
                    0.07974886,
                    -0.22757074,
                    -0.24246283,
                    -0.42496884,
                    0.03832056,
                    0.49842688,
                    -0.92041385,
                    -0.4278108,
                    -0.054723397,
                    -0.5040859,
                    -0.8766612,
                    0.45481908,
                    -1.2688065,
                    -0.2837467,
                    0.025970658,
                    1.0560799,
                    1.946631,
                    0.2833502,
                    -0.7222871
                  ]
                },
                {
                  "line": {
                    "color": "rgba(50, 171, 96, 1.0)",
                    "dash": "solid",
                    "shape": "linear",
                    "width": 1.3
                  },
                  "mode": "lines",
                  "name": "V10",
                  "text": "",
                  "type": "scatter",
                  "x": [
                    0,
                    1,
                    2,
                    3,
                    4,
                    5,
                    6,
                    7,
                    8,
                    9,
                    10,
                    11,
                    12,
                    13,
                    14,
                    15,
                    16,
                    17,
                    18,
                    19,
                    20,
                    21,
                    22,
                    23,
                    24,
                    25,
                    26,
                    27,
                    28,
                    29,
                    30,
                    31,
                    32,
                    33,
                    34,
                    35,
                    36,
                    37,
                    38,
                    39,
                    40,
                    41,
                    42,
                    43,
                    44,
                    45,
                    46,
                    47,
                    48,
                    49,
                    50,
                    51,
                    52,
                    53,
                    54,
                    55,
                    56,
                    57,
                    58,
                    59,
                    60,
                    61,
                    62,
                    63,
                    64,
                    65,
                    66,
                    67,
                    68,
                    69,
                    70,
                    71,
                    72,
                    73,
                    74,
                    75,
                    76,
                    77,
                    78,
                    79,
                    80,
                    81,
                    82,
                    83,
                    84,
                    85,
                    86,
                    87,
                    88,
                    89,
                    90,
                    91,
                    92,
                    93,
                    94,
                    95,
                    96,
                    97,
                    98,
                    99
                  ],
                  "y": [
                    -0.83417135,
                    0.36938944,
                    -1.0703634,
                    0.20276818,
                    0.17787264,
                    0.8356729,
                    -1.3258996,
                    -0.54596907,
                    -0.227465,
                    -0.3134587,
                    0.48122755,
                    1.6318448,
                    -0.433055,
                    -0.17911595,
                    1.2082648,
                    -0.84966415,
                    0.3284553,
                    -1.416895,
                    0.90285856,
                    0.6719302,
                    -1.1873266,
                    0.8965495,
                    -1.3100665,
                    1.2709827,
                    1.9546447,
                    -0.32993197,
                    -1.0951678,
                    -1.8198181,
                    -1.4756805,
                    -0.6564631,
                    1.1035988,
                    0.9583485,
                    -0.28932208,
                    -1.0051349,
                    0.111814216,
                    -0.50849223,
                    -0.35524133,
                    -0.83975255,
                    -0.10275823,
                    -1.2005329,
                    1.7106261,
                    -0.17626874,
                    0.90926695,
                    1.634307,
                    0.49094594,
                    -0.2128288,
                    0.65914077,
                    -0.3140324,
                    -0.5005149,
                    1.0152179,
                    -0.3573484,
                    0.3131001,
                    -1.4896132,
                    -0.36759967,
                    -0.77291584,
                    0.29370147,
                    -0.219879,
                    1.9326751,
                    1.1581368,
                    0.093863554,
                    -1.9742097,
                    0.28544763,
                    0.17249438,
                    0.017225292,
                    0.84960675,
                    0.17717491,
                    -0.07557316,
                    -0.0036190678,
                    0.15735003,
                    1.7286717,
                    0.12464783,
                    2.211615,
                    -0.840137,
                    0.84047526,
                    1.042763,
                    -1.4140738,
                    1.4467286,
                    0.77877766,
                    -1.6277553,
                    0.24136664,
                    1.6022134,
                    0.26093045,
                    -1.0714068,
                    -1.0820972,
                    1.9481943,
                    -1.1127977,
                    -1.0869398,
                    0.27053145,
                    -1.5775695,
                    0.29197332,
                    -0.09771062,
                    1.1434886,
                    1.8646518,
                    0.16824126,
                    -0.6182717,
                    0.11079811,
                    -0.14060399,
                    -0.35777187,
                    -0.64249414,
                    -0.065062806
                  ]
                },
                {
                  "line": {
                    "color": "rgba(128, 0, 128, 1.0)",
                    "dash": "solid",
                    "shape": "linear",
                    "width": 1.3
                  },
                  "mode": "lines",
                  "name": "V12",
                  "text": "",
                  "type": "scatter",
                  "x": [
                    0,
                    1,
                    2,
                    3,
                    4,
                    5,
                    6,
                    7,
                    8,
                    9,
                    10,
                    11,
                    12,
                    13,
                    14,
                    15,
                    16,
                    17,
                    18,
                    19,
                    20,
                    21,
                    22,
                    23,
                    24,
                    25,
                    26,
                    27,
                    28,
                    29,
                    30,
                    31,
                    32,
                    33,
                    34,
                    35,
                    36,
                    37,
                    38,
                    39,
                    40,
                    41,
                    42,
                    43,
                    44,
                    45,
                    46,
                    47,
                    48,
                    49,
                    50,
                    51,
                    52,
                    53,
                    54,
                    55,
                    56,
                    57,
                    58,
                    59,
                    60,
                    61,
                    62,
                    63,
                    64,
                    65,
                    66,
                    67,
                    68,
                    69,
                    70,
                    71,
                    72,
                    73,
                    74,
                    75,
                    76,
                    77,
                    78,
                    79,
                    80,
                    81,
                    82,
                    83,
                    84,
                    85,
                    86,
                    87,
                    88,
                    89,
                    90,
                    91,
                    92,
                    93,
                    94,
                    95,
                    96,
                    97,
                    98,
                    99
                  ],
                  "y": [
                    -0.35058904,
                    0.5188798,
                    0.06266238,
                    -0.17232294,
                    0.042605877,
                    -0.33936667,
                    0.30030814,
                    0.01745947,
                    -0.8961347,
                    -0.8944156,
                    -0.3207854,
                    -0.019319113,
                    -0.637408,
                    -0.16970526,
                    -0.45321104,
                    0.059406932,
                    0.87927747,
                    0.45300418,
                    -0.34351864,
                    -0.5927432,
                    0.22368445,
                    -0.54706097,
                    0.75668573,
                    -0.7413007,
                    -0.28104025,
                    -0.007789261,
                    0.23251417,
                    0.7763434,
                    -1.0883654,
                    0.17157987,
                    -0.43290582,
                    0.9448681,
                    -1.0709692,
                    0.7103676,
                    -0.7227175,
                    0.523595,
                    -0.3417252,
                    0.1333789,
                    1.4108534,
                    -0.07740324,
                    0.06338997,
                    0.101432875,
                    0.21596757,
                    -0.61403507,
                    -0.6147746,
                    0.32973948,
                    -0.65872186,
                    1.304543,
                    -1.6774902,
                    -1.8951864,
                    -0.14884019,
                    -0.35499153,
                    -0.02683263,
                    -0.13955773,
                    -0.9148038,
                    0.10070642,
                    0.21188596,
                    -0.658152,
                    -0.30254406,
                    -0.19898702,
                    0.8436973,
                    -0.32547846,
                    0.72891563,
                    -0.6215747,
                    -0.46157193,
                    1.1330745,
                    -0.21183833,
                    0.19325571,
                    0.37788805,
                    -1.2134547,
                    0.018328933,
                    -0.33711815,
                    1.1457822,
                    -0.7105382,
                    -0.54214674,
                    1.0068762,
                    1.3104333,
                    -0.94921714,
                    -0.36764568,
                    0.06722895,
                    0.724038,
                    -0.037521876,
                    -1.8986579,
                    0.031815782,
                    -0.4258957,
                    -0.1957873,
                    -0.8129634,
                    1.2711273,
                    -0.12856847,
                    -1.2357703,
                    0.10396387,
                    0.5181174,
                    -0.30314234,
                    1.2097723,
                    -0.12160116,
                    0.090479866,
                    0.7656827,
                    -0.09731005,
                    1.4437875,
                    -0.6188753
                  ]
                },
                {
                  "line": {
                    "color": "rgba(219, 64, 82, 1.0)",
                    "dash": "solid",
                    "shape": "linear",
                    "width": 1.3
                  },
                  "mode": "lines",
                  "name": "V14",
                  "text": "",
                  "type": "scatter",
                  "x": [
                    0,
                    1,
                    2,
                    3,
                    4,
                    5,
                    6,
                    7,
                    8,
                    9,
                    10,
                    11,
                    12,
                    13,
                    14,
                    15,
                    16,
                    17,
                    18,
                    19,
                    20,
                    21,
                    22,
                    23,
                    24,
                    25,
                    26,
                    27,
                    28,
                    29,
                    30,
                    31,
                    32,
                    33,
                    34,
                    35,
                    36,
                    37,
                    38,
                    39,
                    40,
                    41,
                    42,
                    43,
                    44,
                    45,
                    46,
                    47,
                    48,
                    49,
                    50,
                    51,
                    52,
                    53,
                    54,
                    55,
                    56,
                    57,
                    58,
                    59,
                    60,
                    61,
                    62,
                    63,
                    64,
                    65,
                    66,
                    67,
                    68,
                    69,
                    70,
                    71,
                    72,
                    73,
                    74,
                    75,
                    76,
                    77,
                    78,
                    79,
                    80,
                    81,
                    82,
                    83,
                    84,
                    85,
                    86,
                    87,
                    88,
                    89,
                    90,
                    91,
                    92,
                    93,
                    94,
                    95,
                    96,
                    97,
                    98,
                    99
                  ],
                  "y": [
                    -1.3243062,
                    0.1803978,
                    -0.21402954,
                    -1.081353,
                    -0.16206701,
                    -0.15316288,
                    -0.103873566,
                    1.8091149,
                    -0.12390278,
                    0.97128004,
                    1.109152,
                    0.079269774,
                    -0.76684415,
                    -0.3152267,
                    -0.2452808,
                    0.37242845,
                    0.23941857,
                    0.06789098,
                    1.068833,
                    -0.19566607,
                    0.30272117,
                    -2.3707407,
                    -0.75068253,
                    1.3817331,
                    -2.0649161,
                    0.98072064,
                    -0.3771806,
                    -0.30038947,
                    0.3157002,
                    -1.7200968,
                    -0.45187643,
                    -1.3246182,
                    -0.08257951,
                    -0.39575183,
                    -0.19513437,
                    -1.2370605,
                    0.5537126,
                    -0.18448158,
                    -0.5471226,
                    -0.8792533,
                    -0.54494053,
                    0.8635572,
                    -1.8545207,
                    0.39281252,
                    -0.060268678,
                    -1.7499486,
                    0.28135577,
                    -1.1298192,
                    -0.7825165,
                    3.4855623,
                    1.1790065,
                    -2.1338024,
                    0.9926914,
                    -0.11134006,
                    -0.40466356,
                    1.2789724,
                    -0.01604629,
                    -0.2706423,
                    1.6098887,
                    0.65732294,
                    0.5076264,
                    -0.07868328,
                    -0.6331981,
                    -0.82482773,
                    -0.82895064,
                    -0.6912177,
                    -0.20143734,
                    0.14392178,
                    -0.25939944,
                    -0.22620791,
                    0.15272483,
                    -0.044554844,
                    0.97281265,
                    0.7566592,
                    -1.4673661,
                    -0.31176946,
                    -1.0492288,
                    0.5382802,
                    -0.65590566,
                    2.3365586,
                    -0.7831626,
                    0.50451,
                    3.126303,
                    1.8269893,
                    1.5114732,
                    1.9900824,
                    0.08997911,
                    -1.4512914,
                    0.49471113,
                    0.23502895,
                    -0.6610376,
                    -1.2359715,
                    0.2088242,
                    -0.23447345,
                    0.20993365,
                    1.4750891,
                    -0.6384027,
                    -0.47917792,
                    0.9734085,
                    0.91356397
                  ]
                },
                {
                  "line": {
                    "color": "rgba(0, 128, 128, 1.0)",
                    "dash": "solid",
                    "shape": "linear",
                    "width": 1.3
                  },
                  "mode": "lines",
                  "name": "V16",
                  "text": "",
                  "type": "scatter",
                  "x": [
                    0,
                    1,
                    2,
                    3,
                    4,
                    5,
                    6,
                    7,
                    8,
                    9,
                    10,
                    11,
                    12,
                    13,
                    14,
                    15,
                    16,
                    17,
                    18,
                    19,
                    20,
                    21,
                    22,
                    23,
                    24,
                    25,
                    26,
                    27,
                    28,
                    29,
                    30,
                    31,
                    32,
                    33,
                    34,
                    35,
                    36,
                    37,
                    38,
                    39,
                    40,
                    41,
                    42,
                    43,
                    44,
                    45,
                    46,
                    47,
                    48,
                    49,
                    50,
                    51,
                    52,
                    53,
                    54,
                    55,
                    56,
                    57,
                    58,
                    59,
                    60,
                    61,
                    62,
                    63,
                    64,
                    65,
                    66,
                    67,
                    68,
                    69,
                    70,
                    71,
                    72,
                    73,
                    74,
                    75,
                    76,
                    77,
                    78,
                    79,
                    80,
                    81,
                    82,
                    83,
                    84,
                    85,
                    86,
                    87,
                    88,
                    89,
                    90,
                    91,
                    92,
                    93,
                    94,
                    95,
                    96,
                    97,
                    98,
                    99
                  ],
                  "y": [
                    1.8937386,
                    -0.6253316,
                    0.585982,
                    0.6505113,
                    0.6233103,
                    0.041924883,
                    0.8225683,
                    -0.2935079,
                    -0.825187,
                    0.20973057,
                    -0.29826534,
                    -1.1630254,
                    -1.1471733,
                    -0.047425557,
                    -0.7085315,
                    -0.25248915,
                    -0.28127298,
                    0.8577641,
                    -0.3849346,
                    -0.14645901,
                    0.8179734,
                    0.5449372,
                    0.56458426,
                    0.26403213,
                    2.6688979,
                    -0.51885474,
                    0.4398267,
                    0.7341036,
                    -1.5583775,
                    2.3946457,
                    -0.3559634,
                    -0.8592011,
                    0.34334406,
                    -0.35539642,
                    0.5760677,
                    0.4363551,
                    -2.2552686,
                    0.4295582,
                    0.38982332,
                    0.9016766,
                    -0.2864972,
                    0.8913527,
                    1.4946038,
                    -0.40631974,
                    0.6508786,
                    0.08470036,
                    -0.50147647,
                    -0.23503323,
                    -2.7925427,
                    -0.9256716,
                    -0.29913688,
                    2.3188841,
                    0.32362977,
                    0.35142124,
                    -0.6217212,
                    0.6194784,
                    0.22999625,
                    -0.85434467,
                    -0.94916755,
                    -0.37312973,
                    0.95301324,
                    0.53311634,
                    0.122569144,
                    0.934584,
                    -0.23205777,
                    -0.9658491,
                    0.6768242,
                    0.9173734,
                    0.10823301,
                    -0.19628231,
                    0.15408827,
                    -0.8775863,
                    -0.47776094,
                    0.051965855,
                    0.99164623,
                    0.6035794,
                    -0.60911137,
                    0.5018404,
                    1.7670654,
                    0.06990877,
                    -0.83682394,
                    -0.011157964,
                    1.4548818,
                    0.09489642,
                    -0.7744345,
                    -0.916895,
                    1.114414,
                    -0.18814395,
                    0.2026865,
                    -0.5365153,
                    -1.34179,
                    -0.80574733,
                    -0.16481464,
                    -0.40911543,
                    -0.23758005,
                    0.3696744,
                    -0.039443213,
                    1.8938748,
                    0.061669204,
                    -1.1587192
                  ]
                },
                {
                  "line": {
                    "color": "rgba(255, 255, 51, 1.0)",
                    "dash": "solid",
                    "shape": "linear",
                    "width": 1.3
                  },
                  "mode": "lines",
                  "name": "V17",
                  "text": "",
                  "type": "scatter",
                  "x": [
                    0,
                    1,
                    2,
                    3,
                    4,
                    5,
                    6,
                    7,
                    8,
                    9,
                    10,
                    11,
                    12,
                    13,
                    14,
                    15,
                    16,
                    17,
                    18,
                    19,
                    20,
                    21,
                    22,
                    23,
                    24,
                    25,
                    26,
                    27,
                    28,
                    29,
                    30,
                    31,
                    32,
                    33,
                    34,
                    35,
                    36,
                    37,
                    38,
                    39,
                    40,
                    41,
                    42,
                    43,
                    44,
                    45,
                    46,
                    47,
                    48,
                    49,
                    50,
                    51,
                    52,
                    53,
                    54,
                    55,
                    56,
                    57,
                    58,
                    59,
                    60,
                    61,
                    62,
                    63,
                    64,
                    65,
                    66,
                    67,
                    68,
                    69,
                    70,
                    71,
                    72,
                    73,
                    74,
                    75,
                    76,
                    77,
                    78,
                    79,
                    80,
                    81,
                    82,
                    83,
                    84,
                    85,
                    86,
                    87,
                    88,
                    89,
                    90,
                    91,
                    92,
                    93,
                    94,
                    95,
                    96,
                    97,
                    98,
                    99
                  ],
                  "y": [
                    -0.39739966,
                    1.9325104,
                    -0.24498469,
                    -1.9177492,
                    0.8954543,
                    -0.0071226475,
                    0.6438964,
                    0.4352247,
                    0.47698596,
                    -0.6745085,
                    -0.16025904,
                    -2.1067753,
                    0.3576291,
                    1.3529917,
                    0.13648272,
                    0.35045266,
                    -1.2000325,
                    -0.19738108,
                    0.24772917,
                    0.7032069,
                    0.19385096,
                    1.1115066,
                    -2.0068028,
                    0.5825431,
                    0.0031846662,
                    0.19166085,
                    -2.292047,
                    -2.1909559,
                    0.060766358,
                    -0.6602932,
                    0.23728323,
                    -0.67775315,
                    0.18983406,
                    0.9955614,
                    -0.73784673,
                    -1.6161647,
                    0.2138631,
                    -0.15214771,
                    2.0903022,
                    -2.384416,
                    -1.382844,
                    -0.11823601,
                    0.5095689,
                    0.062380992,
                    -0.4132639,
                    0.26615855,
                    -0.925937,
                    -0.44139948,
                    1.4041803,
                    -1.982268,
                    0.06063928,
                    0.3147789,
                    -0.9506796,
                    0.007561724,
                    0.06577213,
                    -0.08889029,
                    -0.46767783,
                    0.79221416,
                    -0.76815987,
                    0.96480614,
                    -1.8943992,
                    0.8406926,
                    1.6621042,
                    -0.40647557,
                    0.105821446,
                    -0.63312,
                    -0.1892758,
                    0.08324851,
                    -0.56873864,
                    0.092594266,
                    0.49498868,
                    -0.02464615,
                    1.5850967,
                    -0.5538702,
                    -0.06429253,
                    0.8454654,
                    0.14730369,
                    -0.8213704,
                    -0.04675177,
                    -0.74777675,
                    -1.9647117,
                    -0.64811224,
                    -0.3186853,
                    -0.62216526,
                    -1.8828408,
                    0.35553688,
                    -1.1297367,
                    -0.20441756,
                    -0.8550027,
                    -0.37185907,
                    1.2560644,
                    1.0419669,
                    0.03128661,
                    -0.76606107,
                    0.5215139,
                    0.27643836,
                    0.59160185,
                    0.9462747,
                    1.1677521,
                    0.19003795
                  ]
                },
                {
                  "line": {
                    "color": "rgba(128, 128, 0, 1.0)",
                    "dash": "solid",
                    "shape": "linear",
                    "width": 1.3
                  },
                  "mode": "lines",
                  "name": "Amount",
                  "text": "",
                  "type": "scatter",
                  "x": [
                    0,
                    1,
                    2,
                    3,
                    4,
                    5,
                    6,
                    7,
                    8,
                    9,
                    10,
                    11,
                    12,
                    13,
                    14,
                    15,
                    16,
                    17,
                    18,
                    19,
                    20,
                    21,
                    22,
                    23,
                    24,
                    25,
                    26,
                    27,
                    28,
                    29,
                    30,
                    31,
                    32,
                    33,
                    34,
                    35,
                    36,
                    37,
                    38,
                    39,
                    40,
                    41,
                    42,
                    43,
                    44,
                    45,
                    46,
                    47,
                    48,
                    49,
                    50,
                    51,
                    52,
                    53,
                    54,
                    55,
                    56,
                    57,
                    58,
                    59,
                    60,
                    61,
                    62,
                    63,
                    64,
                    65,
                    66,
                    67,
                    68,
                    69,
                    70,
                    71,
                    72,
                    73,
                    74,
                    75,
                    76,
                    77,
                    78,
                    79,
                    80,
                    81,
                    82,
                    83,
                    84,
                    85,
                    86,
                    87,
                    88,
                    89,
                    90,
                    91,
                    92,
                    93,
                    94,
                    95,
                    96,
                    97,
                    98,
                    99
                  ],
                  "y": [
                    0.10928949,
                    -0.11981676,
                    -0.64204603,
                    0.32558358,
                    -0.791258,
                    0.46129957,
                    -1.1918168,
                    -1.1918784,
                    0.31740826,
                    -0.51672626,
                    0.0702416,
                    0.8342237,
                    1.5631456,
                    -1.596649,
                    -0.59345275,
                    -0.8776391,
                    0.29451388,
                    -0.97008324,
                    -0.025848536,
                    -0.9985529,
                    -1.1511694,
                    1.120014,
                    0.27503932,
                    -1.2017612,
                    0.81208086,
                    -0.5948302,
                    -0.13057892,
                    0.06869661,
                    1.4452555,
                    -0.25106746,
                    0.25828817,
                    0.27901024,
                    -0.5705019,
                    0.18172714,
                    0.2570615,
                    0.27418905,
                    0.36202782,
                    -0.32020366,
                    -1.318164,
                    0.100492336,
                    -0.39578378,
                    -0.26886758,
                    -0.108062685,
                    -0.23197278,
                    0.41309053,
                    0.5125408,
                    1.325595,
                    0.35216013,
                    3.3764164,
                    1.2062325,
                    -0.69298387,
                    0.41202348,
                    -0.44884488,
                    -0.3892082,
                    0.7549278,
                    -0.21638212,
                    -0.62316096,
                    -0.9413583,
                    0.5038975,
                    -1.0494456,
                    -0.4235503,
                    -1.3517069,
                    0.14433764,
                    -0.50521106,
                    0.40937096,
                    0.61639607,
                    -0.48767054,
                    -0.474482,
                    -0.3205972,
                    -1.1325631,
                    -0.85213953,
                    -0.44019005,
                    1.2455492,
                    -0.13401438,
                    0.49812725,
                    -0.038486324,
                    -0.35283732,
                    -0.5269382,
                    -0.02597689,
                    0.01914701,
                    0.40613487,
                    0.08943266,
                    0.73409665,
                    -0.59284383,
                    0.69804657,
                    0.31275773,
                    0.15065864,
                    0.58949304,
                    -0.19449222,
                    -0.9104745,
                    1.8328388,
                    -0.8088828,
                    -0.15042499,
                    0.92123973,
                    -1.1085103,
                    -0.6570717,
                    -1.2054487,
                    0.042897504,
                    -1.4010406,
                    0.81911635
                  ]
                }
              ],
              "layout": {
                "legend": {
                  "bgcolor": "#F5F6F9",
                  "font": {
                    "color": "#4D5663"
                  }
                },
                "paper_bgcolor": "#F5F6F9",
                "plot_bgcolor": "#F5F6F9",
                "template": {
                  "data": {
                    "bar": [
                      {
                        "error_x": {
                          "color": "#2a3f5f"
                        },
                        "error_y": {
                          "color": "#2a3f5f"
                        },
                        "marker": {
                          "line": {
                            "color": "#E5ECF6",
                            "width": 0.5
                          },
                          "pattern": {
                            "fillmode": "overlay",
                            "size": 10,
                            "solidity": 0.2
                          }
                        },
                        "type": "bar"
                      }
                    ],
                    "barpolar": [
                      {
                        "marker": {
                          "line": {
                            "color": "#E5ECF6",
                            "width": 0.5
                          },
                          "pattern": {
                            "fillmode": "overlay",
                            "size": 10,
                            "solidity": 0.2
                          }
                        },
                        "type": "barpolar"
                      }
                    ],
                    "carpet": [
                      {
                        "aaxis": {
                          "endlinecolor": "#2a3f5f",
                          "gridcolor": "white",
                          "linecolor": "white",
                          "minorgridcolor": "white",
                          "startlinecolor": "#2a3f5f"
                        },
                        "baxis": {
                          "endlinecolor": "#2a3f5f",
                          "gridcolor": "white",
                          "linecolor": "white",
                          "minorgridcolor": "white",
                          "startlinecolor": "#2a3f5f"
                        },
                        "type": "carpet"
                      }
                    ],
                    "choropleth": [
                      {
                        "colorbar": {
                          "outlinewidth": 0,
                          "ticks": ""
                        },
                        "type": "choropleth"
                      }
                    ],
                    "contour": [
                      {
                        "colorbar": {
                          "outlinewidth": 0,
                          "ticks": ""
                        },
                        "colorscale": [
                          [
                            0,
                            "#0d0887"
                          ],
                          [
                            0.1111111111111111,
                            "#46039f"
                          ],
                          [
                            0.2222222222222222,
                            "#7201a8"
                          ],
                          [
                            0.3333333333333333,
                            "#9c179e"
                          ],
                          [
                            0.4444444444444444,
                            "#bd3786"
                          ],
                          [
                            0.5555555555555556,
                            "#d8576b"
                          ],
                          [
                            0.6666666666666666,
                            "#ed7953"
                          ],
                          [
                            0.7777777777777778,
                            "#fb9f3a"
                          ],
                          [
                            0.8888888888888888,
                            "#fdca26"
                          ],
                          [
                            1,
                            "#f0f921"
                          ]
                        ],
                        "type": "contour"
                      }
                    ],
                    "contourcarpet": [
                      {
                        "colorbar": {
                          "outlinewidth": 0,
                          "ticks": ""
                        },
                        "type": "contourcarpet"
                      }
                    ],
                    "heatmap": [
                      {
                        "colorbar": {
                          "outlinewidth": 0,
                          "ticks": ""
                        },
                        "colorscale": [
                          [
                            0,
                            "#0d0887"
                          ],
                          [
                            0.1111111111111111,
                            "#46039f"
                          ],
                          [
                            0.2222222222222222,
                            "#7201a8"
                          ],
                          [
                            0.3333333333333333,
                            "#9c179e"
                          ],
                          [
                            0.4444444444444444,
                            "#bd3786"
                          ],
                          [
                            0.5555555555555556,
                            "#d8576b"
                          ],
                          [
                            0.6666666666666666,
                            "#ed7953"
                          ],
                          [
                            0.7777777777777778,
                            "#fb9f3a"
                          ],
                          [
                            0.8888888888888888,
                            "#fdca26"
                          ],
                          [
                            1,
                            "#f0f921"
                          ]
                        ],
                        "type": "heatmap"
                      }
                    ],
                    "heatmapgl": [
                      {
                        "colorbar": {
                          "outlinewidth": 0,
                          "ticks": ""
                        },
                        "colorscale": [
                          [
                            0,
                            "#0d0887"
                          ],
                          [
                            0.1111111111111111,
                            "#46039f"
                          ],
                          [
                            0.2222222222222222,
                            "#7201a8"
                          ],
                          [
                            0.3333333333333333,
                            "#9c179e"
                          ],
                          [
                            0.4444444444444444,
                            "#bd3786"
                          ],
                          [
                            0.5555555555555556,
                            "#d8576b"
                          ],
                          [
                            0.6666666666666666,
                            "#ed7953"
                          ],
                          [
                            0.7777777777777778,
                            "#fb9f3a"
                          ],
                          [
                            0.8888888888888888,
                            "#fdca26"
                          ],
                          [
                            1,
                            "#f0f921"
                          ]
                        ],
                        "type": "heatmapgl"
                      }
                    ],
                    "histogram": [
                      {
                        "marker": {
                          "pattern": {
                            "fillmode": "overlay",
                            "size": 10,
                            "solidity": 0.2
                          }
                        },
                        "type": "histogram"
                      }
                    ],
                    "histogram2d": [
                      {
                        "colorbar": {
                          "outlinewidth": 0,
                          "ticks": ""
                        },
                        "colorscale": [
                          [
                            0,
                            "#0d0887"
                          ],
                          [
                            0.1111111111111111,
                            "#46039f"
                          ],
                          [
                            0.2222222222222222,
                            "#7201a8"
                          ],
                          [
                            0.3333333333333333,
                            "#9c179e"
                          ],
                          [
                            0.4444444444444444,
                            "#bd3786"
                          ],
                          [
                            0.5555555555555556,
                            "#d8576b"
                          ],
                          [
                            0.6666666666666666,
                            "#ed7953"
                          ],
                          [
                            0.7777777777777778,
                            "#fb9f3a"
                          ],
                          [
                            0.8888888888888888,
                            "#fdca26"
                          ],
                          [
                            1,
                            "#f0f921"
                          ]
                        ],
                        "type": "histogram2d"
                      }
                    ],
                    "histogram2dcontour": [
                      {
                        "colorbar": {
                          "outlinewidth": 0,
                          "ticks": ""
                        },
                        "colorscale": [
                          [
                            0,
                            "#0d0887"
                          ],
                          [
                            0.1111111111111111,
                            "#46039f"
                          ],
                          [
                            0.2222222222222222,
                            "#7201a8"
                          ],
                          [
                            0.3333333333333333,
                            "#9c179e"
                          ],
                          [
                            0.4444444444444444,
                            "#bd3786"
                          ],
                          [
                            0.5555555555555556,
                            "#d8576b"
                          ],
                          [
                            0.6666666666666666,
                            "#ed7953"
                          ],
                          [
                            0.7777777777777778,
                            "#fb9f3a"
                          ],
                          [
                            0.8888888888888888,
                            "#fdca26"
                          ],
                          [
                            1,
                            "#f0f921"
                          ]
                        ],
                        "type": "histogram2dcontour"
                      }
                    ],
                    "mesh3d": [
                      {
                        "colorbar": {
                          "outlinewidth": 0,
                          "ticks": ""
                        },
                        "type": "mesh3d"
                      }
                    ],
                    "parcoords": [
                      {
                        "line": {
                          "colorbar": {
                            "outlinewidth": 0,
                            "ticks": ""
                          }
                        },
                        "type": "parcoords"
                      }
                    ],
                    "pie": [
                      {
                        "automargin": true,
                        "type": "pie"
                      }
                    ],
                    "scatter": [
                      {
                        "marker": {
                          "colorbar": {
                            "outlinewidth": 0,
                            "ticks": ""
                          }
                        },
                        "type": "scatter"
                      }
                    ],
                    "scatter3d": [
                      {
                        "line": {
                          "colorbar": {
                            "outlinewidth": 0,
                            "ticks": ""
                          }
                        },
                        "marker": {
                          "colorbar": {
                            "outlinewidth": 0,
                            "ticks": ""
                          }
                        },
                        "type": "scatter3d"
                      }
                    ],
                    "scattercarpet": [
                      {
                        "marker": {
                          "colorbar": {
                            "outlinewidth": 0,
                            "ticks": ""
                          }
                        },
                        "type": "scattercarpet"
                      }
                    ],
                    "scattergeo": [
                      {
                        "marker": {
                          "colorbar": {
                            "outlinewidth": 0,
                            "ticks": ""
                          }
                        },
                        "type": "scattergeo"
                      }
                    ],
                    "scattergl": [
                      {
                        "marker": {
                          "colorbar": {
                            "outlinewidth": 0,
                            "ticks": ""
                          }
                        },
                        "type": "scattergl"
                      }
                    ],
                    "scattermapbox": [
                      {
                        "marker": {
                          "colorbar": {
                            "outlinewidth": 0,
                            "ticks": ""
                          }
                        },
                        "type": "scattermapbox"
                      }
                    ],
                    "scatterpolar": [
                      {
                        "marker": {
                          "colorbar": {
                            "outlinewidth": 0,
                            "ticks": ""
                          }
                        },
                        "type": "scatterpolar"
                      }
                    ],
                    "scatterpolargl": [
                      {
                        "marker": {
                          "colorbar": {
                            "outlinewidth": 0,
                            "ticks": ""
                          }
                        },
                        "type": "scatterpolargl"
                      }
                    ],
                    "scatterternary": [
                      {
                        "marker": {
                          "colorbar": {
                            "outlinewidth": 0,
                            "ticks": ""
                          }
                        },
                        "type": "scatterternary"
                      }
                    ],
                    "surface": [
                      {
                        "colorbar": {
                          "outlinewidth": 0,
                          "ticks": ""
                        },
                        "colorscale": [
                          [
                            0,
                            "#0d0887"
                          ],
                          [
                            0.1111111111111111,
                            "#46039f"
                          ],
                          [
                            0.2222222222222222,
                            "#7201a8"
                          ],
                          [
                            0.3333333333333333,
                            "#9c179e"
                          ],
                          [
                            0.4444444444444444,
                            "#bd3786"
                          ],
                          [
                            0.5555555555555556,
                            "#d8576b"
                          ],
                          [
                            0.6666666666666666,
                            "#ed7953"
                          ],
                          [
                            0.7777777777777778,
                            "#fb9f3a"
                          ],
                          [
                            0.8888888888888888,
                            "#fdca26"
                          ],
                          [
                            1,
                            "#f0f921"
                          ]
                        ],
                        "type": "surface"
                      }
                    ],
                    "table": [
                      {
                        "cells": {
                          "fill": {
                            "color": "#EBF0F8"
                          },
                          "line": {
                            "color": "white"
                          }
                        },
                        "header": {
                          "fill": {
                            "color": "#C8D4E3"
                          },
                          "line": {
                            "color": "white"
                          }
                        },
                        "type": "table"
                      }
                    ]
                  },
                  "layout": {
                    "annotationdefaults": {
                      "arrowcolor": "#2a3f5f",
                      "arrowhead": 0,
                      "arrowwidth": 1
                    },
                    "autotypenumbers": "strict",
                    "coloraxis": {
                      "colorbar": {
                        "outlinewidth": 0,
                        "ticks": ""
                      }
                    },
                    "colorscale": {
                      "diverging": [
                        [
                          0,
                          "#8e0152"
                        ],
                        [
                          0.1,
                          "#c51b7d"
                        ],
                        [
                          0.2,
                          "#de77ae"
                        ],
                        [
                          0.3,
                          "#f1b6da"
                        ],
                        [
                          0.4,
                          "#fde0ef"
                        ],
                        [
                          0.5,
                          "#f7f7f7"
                        ],
                        [
                          0.6,
                          "#e6f5d0"
                        ],
                        [
                          0.7,
                          "#b8e186"
                        ],
                        [
                          0.8,
                          "#7fbc41"
                        ],
                        [
                          0.9,
                          "#4d9221"
                        ],
                        [
                          1,
                          "#276419"
                        ]
                      ],
                      "sequential": [
                        [
                          0,
                          "#0d0887"
                        ],
                        [
                          0.1111111111111111,
                          "#46039f"
                        ],
                        [
                          0.2222222222222222,
                          "#7201a8"
                        ],
                        [
                          0.3333333333333333,
                          "#9c179e"
                        ],
                        [
                          0.4444444444444444,
                          "#bd3786"
                        ],
                        [
                          0.5555555555555556,
                          "#d8576b"
                        ],
                        [
                          0.6666666666666666,
                          "#ed7953"
                        ],
                        [
                          0.7777777777777778,
                          "#fb9f3a"
                        ],
                        [
                          0.8888888888888888,
                          "#fdca26"
                        ],
                        [
                          1,
                          "#f0f921"
                        ]
                      ],
                      "sequentialminus": [
                        [
                          0,
                          "#0d0887"
                        ],
                        [
                          0.1111111111111111,
                          "#46039f"
                        ],
                        [
                          0.2222222222222222,
                          "#7201a8"
                        ],
                        [
                          0.3333333333333333,
                          "#9c179e"
                        ],
                        [
                          0.4444444444444444,
                          "#bd3786"
                        ],
                        [
                          0.5555555555555556,
                          "#d8576b"
                        ],
                        [
                          0.6666666666666666,
                          "#ed7953"
                        ],
                        [
                          0.7777777777777778,
                          "#fb9f3a"
                        ],
                        [
                          0.8888888888888888,
                          "#fdca26"
                        ],
                        [
                          1,
                          "#f0f921"
                        ]
                      ]
                    },
                    "colorway": [
                      "#636efa",
                      "#EF553B",
                      "#00cc96",
                      "#ab63fa",
                      "#FFA15A",
                      "#19d3f3",
                      "#FF6692",
                      "#B6E880",
                      "#FF97FF",
                      "#FECB52"
                    ],
                    "font": {
                      "color": "#2a3f5f"
                    },
                    "geo": {
                      "bgcolor": "white",
                      "lakecolor": "white",
                      "landcolor": "#E5ECF6",
                      "showlakes": true,
                      "showland": true,
                      "subunitcolor": "white"
                    },
                    "hoverlabel": {
                      "align": "left"
                    },
                    "hovermode": "closest",
                    "mapbox": {
                      "style": "light"
                    },
                    "paper_bgcolor": "white",
                    "plot_bgcolor": "#E5ECF6",
                    "polar": {
                      "angularaxis": {
                        "gridcolor": "white",
                        "linecolor": "white",
                        "ticks": ""
                      },
                      "bgcolor": "#E5ECF6",
                      "radialaxis": {
                        "gridcolor": "white",
                        "linecolor": "white",
                        "ticks": ""
                      }
                    },
                    "scene": {
                      "xaxis": {
                        "backgroundcolor": "#E5ECF6",
                        "gridcolor": "white",
                        "gridwidth": 2,
                        "linecolor": "white",
                        "showbackground": true,
                        "ticks": "",
                        "zerolinecolor": "white"
                      },
                      "yaxis": {
                        "backgroundcolor": "#E5ECF6",
                        "gridcolor": "white",
                        "gridwidth": 2,
                        "linecolor": "white",
                        "showbackground": true,
                        "ticks": "",
                        "zerolinecolor": "white"
                      },
                      "zaxis": {
                        "backgroundcolor": "#E5ECF6",
                        "gridcolor": "white",
                        "gridwidth": 2,
                        "linecolor": "white",
                        "showbackground": true,
                        "ticks": "",
                        "zerolinecolor": "white"
                      }
                    },
                    "shapedefaults": {
                      "line": {
                        "color": "#2a3f5f"
                      }
                    },
                    "ternary": {
                      "aaxis": {
                        "gridcolor": "white",
                        "linecolor": "white",
                        "ticks": ""
                      },
                      "baxis": {
                        "gridcolor": "white",
                        "linecolor": "white",
                        "ticks": ""
                      },
                      "bgcolor": "#E5ECF6",
                      "caxis": {
                        "gridcolor": "white",
                        "linecolor": "white",
                        "ticks": ""
                      }
                    },
                    "title": {
                      "x": 0.05
                    },
                    "xaxis": {
                      "automargin": true,
                      "gridcolor": "white",
                      "linecolor": "white",
                      "ticks": "",
                      "title": {
                        "standoff": 15
                      },
                      "zerolinecolor": "white",
                      "zerolinewidth": 2
                    },
                    "yaxis": {
                      "automargin": true,
                      "gridcolor": "white",
                      "linecolor": "white",
                      "ticks": "",
                      "title": {
                        "standoff": 15
                      },
                      "zerolinecolor": "white",
                      "zerolinewidth": 2
                    }
                  }
                },
                "title": {
                  "font": {
                    "color": "#4D5663"
                  }
                },
                "xaxis": {
                  "gridcolor": "#E1E5ED",
                  "showgrid": true,
                  "tickfont": {
                    "color": "#4D5663"
                  },
                  "title": {
                    "font": {
                      "color": "#4D5663"
                    },
                    "text": ""
                  },
                  "zerolinecolor": "#E1E5ED"
                },
                "yaxis": {
                  "gridcolor": "#E1E5ED",
                  "showgrid": true,
                  "tickfont": {
                    "color": "#4D5663"
                  },
                  "title": {
                    "font": {
                      "color": "#4D5663"
                    },
                    "text": ""
                  },
                  "zerolinecolor": "#E1E5ED"
                }
              }
            },
            "text/html": [
              "<div>                            <div id=\"751979b8-9ccb-44de-b8f4-f448e611353c\" class=\"plotly-graph-div\" style=\"height:525px; width:100%;\"></div>            <script type=\"text/javascript\">                require([\"plotly\"], function(Plotly) {                    window.PLOTLYENV=window.PLOTLYENV || {};\n",
              "                    window.PLOTLYENV.BASE_URL='https://plot.ly';                                    if (document.getElementById(\"751979b8-9ccb-44de-b8f4-f448e611353c\")) {                    Plotly.newPlot(                        \"751979b8-9ccb-44de-b8f4-f448e611353c\",                        [{\"line\":{\"color\":\"rgba(255, 153, 51, 1.0)\",\"dash\":\"solid\",\"shape\":\"linear\",\"width\":1.3},\"mode\":\"lines\",\"name\":\"V2\",\"text\":\"\",\"x\":[0,1,2,3,4,5,6,7,8,9,10,11,12,13,14,15,16,17,18,19,20,21,22,23,24,25,26,27,28,29,30,31,32,33,34,35,36,37,38,39,40,41,42,43,44,45,46,47,48,49,50,51,52,53,54,55,56,57,58,59,60,61,62,63,64,65,66,67,68,69,70,71,72,73,74,75,76,77,78,79,80,81,82,83,84,85,86,87,88,89,90,91,92,93,94,95,96,97,98,99],\"y\":[-1.5595759,1.5299487,-1.0338732,0.32535982,-1.445734,-0.46410665,1.2013134,-0.46410665,0.2012065,-1.5595759,1.1050092,0.17428325,-1.5595759,0.3210143,0.62239355,-1.5595759,1.9669949,-0.3661573,-1.0956262,-0.61287874,-1.1100315,-0.62021255,1.5192033,-0.64582354,-0.19403,0.62239355,1.3135864,1.7264944,1.7610854,0.09090593,-1.5966821,-0.96466166,0.19337337,-0.23167138,1.4707689,1.5542393,-1.5595759,-1.2991999,0.21330473,1.3886871,1.0156114,0.48122564,1.2048556,0.34154972,0.86977845,0.5743708,-0.90466917,-0.293428,-1.5595759,0.5809939,-0.23011905,-0.52475274,0.32685068,-1.2991999,-0.20210926,-0.5899817,-1.3420681,0.25392136,1.3909488,0.8700648,1.9156246,0.59522444,0.19337337,-2.0169067,-0.90466917,0.31161225,1.4382943,1.0782965,1.072494,-1.5595759,0.7320972,-0.11812754,0.17331201,-1.1605704,-0.46353522,0.5249803,0.11290494,-1.5595759,-1.6434829,-1.5595759,-0.46353522,-0.20396091,-0.6261435,0.03615223,-0.00786597,-1.3420681,0.31084725,0.9743367,-1.5595759,0.29312322,1.0441859,1.0415325,-0.665359,1.4983302,-0.2498183,-1.2991999,-1.6434829,-1.1035886,-0.42912742,1.6359366],\"type\":\"scatter\"},{\"line\":{\"color\":\"rgba(55, 128, 191, 1.0)\",\"dash\":\"solid\",\"shape\":\"linear\",\"width\":1.3},\"mode\":\"lines\",\"name\":\"V3\",\"text\":\"\",\"x\":[0,1,2,3,4,5,6,7,8,9,10,11,12,13,14,15,16,17,18,19,20,21,22,23,24,25,26,27,28,29,30,31,32,33,34,35,36,37,38,39,40,41,42,43,44,45,46,47,48,49,50,51,52,53,54,55,56,57,58,59,60,61,62,63,64,65,66,67,68,69,70,71,72,73,74,75,76,77,78,79,80,81,82,83,84,85,86,87,88,89,90,91,92,93,94,95,96,97,98,99],\"y\":[0.062925026,-1.1151786,-0.11329786,-0.47104254,-0.20077035,0.51763636,-0.55708706,-0.34728643,0.6169953,-0.05820212,-0.6620082,-0.32655925,0.32807112,0.4389217,-0.0149209425,-0.22687408,-1.657531,-0.021407353,0.671741,0.4605821,-0.16074038,0.45338005,-1.0090785,0.53149146,-2.2172573,-0.43277007,-0.15350847,-1.0901659,-0.90706575,0.8478028,0.6951919,-0.6268183,-0.11282461,-0.49411952,0.505807,-1.0358897,0.76410234,-0.1519296,-0.003297237,-0.3812633,0.013648055,-0.038057644,-0.14823382,-0.34055886,0.17304143,-0.18860303,0.5745413,-0.57419145,1.349815,-0.9153834,-0.24634917,0.09979509,-0.023252008,0.71765256,0.87812114,1.0040392,0.7760092,0.16200823,-0.18511242,-0.25931308,-1.4183879,0.47828048,-0.53825027,0.14751957,0.61045915,-0.77849185,0.16285427,-0.2604362,0.22697261,0.12349839,0.0012608096,0.36004058,2.5116377,0.331212,0.015839001,-0.48728463,-0.63397,0.2946755,1.0880786,0.07728913,-0.3561017,0.07974886,-0.22757074,-0.24246283,-0.42496884,0.03832056,0.49842688,-0.92041385,-0.4278108,-0.054723397,-0.5040859,-0.8766612,0.45481908,-1.2688065,-0.2837467,0.025970658,1.0560799,1.946631,0.2833502,-0.7222871],\"type\":\"scatter\"},{\"line\":{\"color\":\"rgba(50, 171, 96, 1.0)\",\"dash\":\"solid\",\"shape\":\"linear\",\"width\":1.3},\"mode\":\"lines\",\"name\":\"V10\",\"text\":\"\",\"x\":[0,1,2,3,4,5,6,7,8,9,10,11,12,13,14,15,16,17,18,19,20,21,22,23,24,25,26,27,28,29,30,31,32,33,34,35,36,37,38,39,40,41,42,43,44,45,46,47,48,49,50,51,52,53,54,55,56,57,58,59,60,61,62,63,64,65,66,67,68,69,70,71,72,73,74,75,76,77,78,79,80,81,82,83,84,85,86,87,88,89,90,91,92,93,94,95,96,97,98,99],\"y\":[-0.83417135,0.36938944,-1.0703634,0.20276818,0.17787264,0.8356729,-1.3258996,-0.54596907,-0.227465,-0.3134587,0.48122755,1.6318448,-0.433055,-0.17911595,1.2082648,-0.84966415,0.3284553,-1.416895,0.90285856,0.6719302,-1.1873266,0.8965495,-1.3100665,1.2709827,1.9546447,-0.32993197,-1.0951678,-1.8198181,-1.4756805,-0.6564631,1.1035988,0.9583485,-0.28932208,-1.0051349,0.111814216,-0.50849223,-0.35524133,-0.83975255,-0.10275823,-1.2005329,1.7106261,-0.17626874,0.90926695,1.634307,0.49094594,-0.2128288,0.65914077,-0.3140324,-0.5005149,1.0152179,-0.3573484,0.3131001,-1.4896132,-0.36759967,-0.77291584,0.29370147,-0.219879,1.9326751,1.1581368,0.093863554,-1.9742097,0.28544763,0.17249438,0.017225292,0.84960675,0.17717491,-0.07557316,-0.0036190678,0.15735003,1.7286717,0.12464783,2.211615,-0.840137,0.84047526,1.042763,-1.4140738,1.4467286,0.77877766,-1.6277553,0.24136664,1.6022134,0.26093045,-1.0714068,-1.0820972,1.9481943,-1.1127977,-1.0869398,0.27053145,-1.5775695,0.29197332,-0.09771062,1.1434886,1.8646518,0.16824126,-0.6182717,0.11079811,-0.14060399,-0.35777187,-0.64249414,-0.065062806],\"type\":\"scatter\"},{\"line\":{\"color\":\"rgba(128, 0, 128, 1.0)\",\"dash\":\"solid\",\"shape\":\"linear\",\"width\":1.3},\"mode\":\"lines\",\"name\":\"V12\",\"text\":\"\",\"x\":[0,1,2,3,4,5,6,7,8,9,10,11,12,13,14,15,16,17,18,19,20,21,22,23,24,25,26,27,28,29,30,31,32,33,34,35,36,37,38,39,40,41,42,43,44,45,46,47,48,49,50,51,52,53,54,55,56,57,58,59,60,61,62,63,64,65,66,67,68,69,70,71,72,73,74,75,76,77,78,79,80,81,82,83,84,85,86,87,88,89,90,91,92,93,94,95,96,97,98,99],\"y\":[-0.35058904,0.5188798,0.06266238,-0.17232294,0.042605877,-0.33936667,0.30030814,0.01745947,-0.8961347,-0.8944156,-0.3207854,-0.019319113,-0.637408,-0.16970526,-0.45321104,0.059406932,0.87927747,0.45300418,-0.34351864,-0.5927432,0.22368445,-0.54706097,0.75668573,-0.7413007,-0.28104025,-0.007789261,0.23251417,0.7763434,-1.0883654,0.17157987,-0.43290582,0.9448681,-1.0709692,0.7103676,-0.7227175,0.523595,-0.3417252,0.1333789,1.4108534,-0.07740324,0.06338997,0.101432875,0.21596757,-0.61403507,-0.6147746,0.32973948,-0.65872186,1.304543,-1.6774902,-1.8951864,-0.14884019,-0.35499153,-0.02683263,-0.13955773,-0.9148038,0.10070642,0.21188596,-0.658152,-0.30254406,-0.19898702,0.8436973,-0.32547846,0.72891563,-0.6215747,-0.46157193,1.1330745,-0.21183833,0.19325571,0.37788805,-1.2134547,0.018328933,-0.33711815,1.1457822,-0.7105382,-0.54214674,1.0068762,1.3104333,-0.94921714,-0.36764568,0.06722895,0.724038,-0.037521876,-1.8986579,0.031815782,-0.4258957,-0.1957873,-0.8129634,1.2711273,-0.12856847,-1.2357703,0.10396387,0.5181174,-0.30314234,1.2097723,-0.12160116,0.090479866,0.7656827,-0.09731005,1.4437875,-0.6188753],\"type\":\"scatter\"},{\"line\":{\"color\":\"rgba(219, 64, 82, 1.0)\",\"dash\":\"solid\",\"shape\":\"linear\",\"width\":1.3},\"mode\":\"lines\",\"name\":\"V14\",\"text\":\"\",\"x\":[0,1,2,3,4,5,6,7,8,9,10,11,12,13,14,15,16,17,18,19,20,21,22,23,24,25,26,27,28,29,30,31,32,33,34,35,36,37,38,39,40,41,42,43,44,45,46,47,48,49,50,51,52,53,54,55,56,57,58,59,60,61,62,63,64,65,66,67,68,69,70,71,72,73,74,75,76,77,78,79,80,81,82,83,84,85,86,87,88,89,90,91,92,93,94,95,96,97,98,99],\"y\":[-1.3243062,0.1803978,-0.21402954,-1.081353,-0.16206701,-0.15316288,-0.103873566,1.8091149,-0.12390278,0.97128004,1.109152,0.079269774,-0.76684415,-0.3152267,-0.2452808,0.37242845,0.23941857,0.06789098,1.068833,-0.19566607,0.30272117,-2.3707407,-0.75068253,1.3817331,-2.0649161,0.98072064,-0.3771806,-0.30038947,0.3157002,-1.7200968,-0.45187643,-1.3246182,-0.08257951,-0.39575183,-0.19513437,-1.2370605,0.5537126,-0.18448158,-0.5471226,-0.8792533,-0.54494053,0.8635572,-1.8545207,0.39281252,-0.060268678,-1.7499486,0.28135577,-1.1298192,-0.7825165,3.4855623,1.1790065,-2.1338024,0.9926914,-0.11134006,-0.40466356,1.2789724,-0.01604629,-0.2706423,1.6098887,0.65732294,0.5076264,-0.07868328,-0.6331981,-0.82482773,-0.82895064,-0.6912177,-0.20143734,0.14392178,-0.25939944,-0.22620791,0.15272483,-0.044554844,0.97281265,0.7566592,-1.4673661,-0.31176946,-1.0492288,0.5382802,-0.65590566,2.3365586,-0.7831626,0.50451,3.126303,1.8269893,1.5114732,1.9900824,0.08997911,-1.4512914,0.49471113,0.23502895,-0.6610376,-1.2359715,0.2088242,-0.23447345,0.20993365,1.4750891,-0.6384027,-0.47917792,0.9734085,0.91356397],\"type\":\"scatter\"},{\"line\":{\"color\":\"rgba(0, 128, 128, 1.0)\",\"dash\":\"solid\",\"shape\":\"linear\",\"width\":1.3},\"mode\":\"lines\",\"name\":\"V16\",\"text\":\"\",\"x\":[0,1,2,3,4,5,6,7,8,9,10,11,12,13,14,15,16,17,18,19,20,21,22,23,24,25,26,27,28,29,30,31,32,33,34,35,36,37,38,39,40,41,42,43,44,45,46,47,48,49,50,51,52,53,54,55,56,57,58,59,60,61,62,63,64,65,66,67,68,69,70,71,72,73,74,75,76,77,78,79,80,81,82,83,84,85,86,87,88,89,90,91,92,93,94,95,96,97,98,99],\"y\":[1.8937386,-0.6253316,0.585982,0.6505113,0.6233103,0.041924883,0.8225683,-0.2935079,-0.825187,0.20973057,-0.29826534,-1.1630254,-1.1471733,-0.047425557,-0.7085315,-0.25248915,-0.28127298,0.8577641,-0.3849346,-0.14645901,0.8179734,0.5449372,0.56458426,0.26403213,2.6688979,-0.51885474,0.4398267,0.7341036,-1.5583775,2.3946457,-0.3559634,-0.8592011,0.34334406,-0.35539642,0.5760677,0.4363551,-2.2552686,0.4295582,0.38982332,0.9016766,-0.2864972,0.8913527,1.4946038,-0.40631974,0.6508786,0.08470036,-0.50147647,-0.23503323,-2.7925427,-0.9256716,-0.29913688,2.3188841,0.32362977,0.35142124,-0.6217212,0.6194784,0.22999625,-0.85434467,-0.94916755,-0.37312973,0.95301324,0.53311634,0.122569144,0.934584,-0.23205777,-0.9658491,0.6768242,0.9173734,0.10823301,-0.19628231,0.15408827,-0.8775863,-0.47776094,0.051965855,0.99164623,0.6035794,-0.60911137,0.5018404,1.7670654,0.06990877,-0.83682394,-0.011157964,1.4548818,0.09489642,-0.7744345,-0.916895,1.114414,-0.18814395,0.2026865,-0.5365153,-1.34179,-0.80574733,-0.16481464,-0.40911543,-0.23758005,0.3696744,-0.039443213,1.8938748,0.061669204,-1.1587192],\"type\":\"scatter\"},{\"line\":{\"color\":\"rgba(255, 255, 51, 1.0)\",\"dash\":\"solid\",\"shape\":\"linear\",\"width\":1.3},\"mode\":\"lines\",\"name\":\"V17\",\"text\":\"\",\"x\":[0,1,2,3,4,5,6,7,8,9,10,11,12,13,14,15,16,17,18,19,20,21,22,23,24,25,26,27,28,29,30,31,32,33,34,35,36,37,38,39,40,41,42,43,44,45,46,47,48,49,50,51,52,53,54,55,56,57,58,59,60,61,62,63,64,65,66,67,68,69,70,71,72,73,74,75,76,77,78,79,80,81,82,83,84,85,86,87,88,89,90,91,92,93,94,95,96,97,98,99],\"y\":[-0.39739966,1.9325104,-0.24498469,-1.9177492,0.8954543,-0.0071226475,0.6438964,0.4352247,0.47698596,-0.6745085,-0.16025904,-2.1067753,0.3576291,1.3529917,0.13648272,0.35045266,-1.2000325,-0.19738108,0.24772917,0.7032069,0.19385096,1.1115066,-2.0068028,0.5825431,0.0031846662,0.19166085,-2.292047,-2.1909559,0.060766358,-0.6602932,0.23728323,-0.67775315,0.18983406,0.9955614,-0.73784673,-1.6161647,0.2138631,-0.15214771,2.0903022,-2.384416,-1.382844,-0.11823601,0.5095689,0.062380992,-0.4132639,0.26615855,-0.925937,-0.44139948,1.4041803,-1.982268,0.06063928,0.3147789,-0.9506796,0.007561724,0.06577213,-0.08889029,-0.46767783,0.79221416,-0.76815987,0.96480614,-1.8943992,0.8406926,1.6621042,-0.40647557,0.105821446,-0.63312,-0.1892758,0.08324851,-0.56873864,0.092594266,0.49498868,-0.02464615,1.5850967,-0.5538702,-0.06429253,0.8454654,0.14730369,-0.8213704,-0.04675177,-0.74777675,-1.9647117,-0.64811224,-0.3186853,-0.62216526,-1.8828408,0.35553688,-1.1297367,-0.20441756,-0.8550027,-0.37185907,1.2560644,1.0419669,0.03128661,-0.76606107,0.5215139,0.27643836,0.59160185,0.9462747,1.1677521,0.19003795],\"type\":\"scatter\"},{\"line\":{\"color\":\"rgba(128, 128, 0, 1.0)\",\"dash\":\"solid\",\"shape\":\"linear\",\"width\":1.3},\"mode\":\"lines\",\"name\":\"Amount\",\"text\":\"\",\"x\":[0,1,2,3,4,5,6,7,8,9,10,11,12,13,14,15,16,17,18,19,20,21,22,23,24,25,26,27,28,29,30,31,32,33,34,35,36,37,38,39,40,41,42,43,44,45,46,47,48,49,50,51,52,53,54,55,56,57,58,59,60,61,62,63,64,65,66,67,68,69,70,71,72,73,74,75,76,77,78,79,80,81,82,83,84,85,86,87,88,89,90,91,92,93,94,95,96,97,98,99],\"y\":[0.10928949,-0.11981676,-0.64204603,0.32558358,-0.791258,0.46129957,-1.1918168,-1.1918784,0.31740826,-0.51672626,0.0702416,0.8342237,1.5631456,-1.596649,-0.59345275,-0.8776391,0.29451388,-0.97008324,-0.025848536,-0.9985529,-1.1511694,1.120014,0.27503932,-1.2017612,0.81208086,-0.5948302,-0.13057892,0.06869661,1.4452555,-0.25106746,0.25828817,0.27901024,-0.5705019,0.18172714,0.2570615,0.27418905,0.36202782,-0.32020366,-1.318164,0.100492336,-0.39578378,-0.26886758,-0.108062685,-0.23197278,0.41309053,0.5125408,1.325595,0.35216013,3.3764164,1.2062325,-0.69298387,0.41202348,-0.44884488,-0.3892082,0.7549278,-0.21638212,-0.62316096,-0.9413583,0.5038975,-1.0494456,-0.4235503,-1.3517069,0.14433764,-0.50521106,0.40937096,0.61639607,-0.48767054,-0.474482,-0.3205972,-1.1325631,-0.85213953,-0.44019005,1.2455492,-0.13401438,0.49812725,-0.038486324,-0.35283732,-0.5269382,-0.02597689,0.01914701,0.40613487,0.08943266,0.73409665,-0.59284383,0.69804657,0.31275773,0.15065864,0.58949304,-0.19449222,-0.9104745,1.8328388,-0.8088828,-0.15042499,0.92123973,-1.1085103,-0.6570717,-1.2054487,0.042897504,-1.4010406,0.81911635],\"type\":\"scatter\"}],                        {\"legend\":{\"bgcolor\":\"#F5F6F9\",\"font\":{\"color\":\"#4D5663\"}},\"paper_bgcolor\":\"#F5F6F9\",\"plot_bgcolor\":\"#F5F6F9\",\"template\":{\"data\":{\"barpolar\":[{\"marker\":{\"line\":{\"color\":\"#E5ECF6\",\"width\":0.5},\"pattern\":{\"fillmode\":\"overlay\",\"size\":10,\"solidity\":0.2}},\"type\":\"barpolar\"}],\"bar\":[{\"error_x\":{\"color\":\"#2a3f5f\"},\"error_y\":{\"color\":\"#2a3f5f\"},\"marker\":{\"line\":{\"color\":\"#E5ECF6\",\"width\":0.5},\"pattern\":{\"fillmode\":\"overlay\",\"size\":10,\"solidity\":0.2}},\"type\":\"bar\"}],\"carpet\":[{\"aaxis\":{\"endlinecolor\":\"#2a3f5f\",\"gridcolor\":\"white\",\"linecolor\":\"white\",\"minorgridcolor\":\"white\",\"startlinecolor\":\"#2a3f5f\"},\"baxis\":{\"endlinecolor\":\"#2a3f5f\",\"gridcolor\":\"white\",\"linecolor\":\"white\",\"minorgridcolor\":\"white\",\"startlinecolor\":\"#2a3f5f\"},\"type\":\"carpet\"}],\"choropleth\":[{\"colorbar\":{\"outlinewidth\":0,\"ticks\":\"\"},\"type\":\"choropleth\"}],\"contourcarpet\":[{\"colorbar\":{\"outlinewidth\":0,\"ticks\":\"\"},\"type\":\"contourcarpet\"}],\"contour\":[{\"colorbar\":{\"outlinewidth\":0,\"ticks\":\"\"},\"colorscale\":[[0.0,\"#0d0887\"],[0.1111111111111111,\"#46039f\"],[0.2222222222222222,\"#7201a8\"],[0.3333333333333333,\"#9c179e\"],[0.4444444444444444,\"#bd3786\"],[0.5555555555555556,\"#d8576b\"],[0.6666666666666666,\"#ed7953\"],[0.7777777777777778,\"#fb9f3a\"],[0.8888888888888888,\"#fdca26\"],[1.0,\"#f0f921\"]],\"type\":\"contour\"}],\"heatmapgl\":[{\"colorbar\":{\"outlinewidth\":0,\"ticks\":\"\"},\"colorscale\":[[0.0,\"#0d0887\"],[0.1111111111111111,\"#46039f\"],[0.2222222222222222,\"#7201a8\"],[0.3333333333333333,\"#9c179e\"],[0.4444444444444444,\"#bd3786\"],[0.5555555555555556,\"#d8576b\"],[0.6666666666666666,\"#ed7953\"],[0.7777777777777778,\"#fb9f3a\"],[0.8888888888888888,\"#fdca26\"],[1.0,\"#f0f921\"]],\"type\":\"heatmapgl\"}],\"heatmap\":[{\"colorbar\":{\"outlinewidth\":0,\"ticks\":\"\"},\"colorscale\":[[0.0,\"#0d0887\"],[0.1111111111111111,\"#46039f\"],[0.2222222222222222,\"#7201a8\"],[0.3333333333333333,\"#9c179e\"],[0.4444444444444444,\"#bd3786\"],[0.5555555555555556,\"#d8576b\"],[0.6666666666666666,\"#ed7953\"],[0.7777777777777778,\"#fb9f3a\"],[0.8888888888888888,\"#fdca26\"],[1.0,\"#f0f921\"]],\"type\":\"heatmap\"}],\"histogram2dcontour\":[{\"colorbar\":{\"outlinewidth\":0,\"ticks\":\"\"},\"colorscale\":[[0.0,\"#0d0887\"],[0.1111111111111111,\"#46039f\"],[0.2222222222222222,\"#7201a8\"],[0.3333333333333333,\"#9c179e\"],[0.4444444444444444,\"#bd3786\"],[0.5555555555555556,\"#d8576b\"],[0.6666666666666666,\"#ed7953\"],[0.7777777777777778,\"#fb9f3a\"],[0.8888888888888888,\"#fdca26\"],[1.0,\"#f0f921\"]],\"type\":\"histogram2dcontour\"}],\"histogram2d\":[{\"colorbar\":{\"outlinewidth\":0,\"ticks\":\"\"},\"colorscale\":[[0.0,\"#0d0887\"],[0.1111111111111111,\"#46039f\"],[0.2222222222222222,\"#7201a8\"],[0.3333333333333333,\"#9c179e\"],[0.4444444444444444,\"#bd3786\"],[0.5555555555555556,\"#d8576b\"],[0.6666666666666666,\"#ed7953\"],[0.7777777777777778,\"#fb9f3a\"],[0.8888888888888888,\"#fdca26\"],[1.0,\"#f0f921\"]],\"type\":\"histogram2d\"}],\"histogram\":[{\"marker\":{\"pattern\":{\"fillmode\":\"overlay\",\"size\":10,\"solidity\":0.2}},\"type\":\"histogram\"}],\"mesh3d\":[{\"colorbar\":{\"outlinewidth\":0,\"ticks\":\"\"},\"type\":\"mesh3d\"}],\"parcoords\":[{\"line\":{\"colorbar\":{\"outlinewidth\":0,\"ticks\":\"\"}},\"type\":\"parcoords\"}],\"pie\":[{\"automargin\":true,\"type\":\"pie\"}],\"scatter3d\":[{\"line\":{\"colorbar\":{\"outlinewidth\":0,\"ticks\":\"\"}},\"marker\":{\"colorbar\":{\"outlinewidth\":0,\"ticks\":\"\"}},\"type\":\"scatter3d\"}],\"scattercarpet\":[{\"marker\":{\"colorbar\":{\"outlinewidth\":0,\"ticks\":\"\"}},\"type\":\"scattercarpet\"}],\"scattergeo\":[{\"marker\":{\"colorbar\":{\"outlinewidth\":0,\"ticks\":\"\"}},\"type\":\"scattergeo\"}],\"scattergl\":[{\"marker\":{\"colorbar\":{\"outlinewidth\":0,\"ticks\":\"\"}},\"type\":\"scattergl\"}],\"scattermapbox\":[{\"marker\":{\"colorbar\":{\"outlinewidth\":0,\"ticks\":\"\"}},\"type\":\"scattermapbox\"}],\"scatterpolargl\":[{\"marker\":{\"colorbar\":{\"outlinewidth\":0,\"ticks\":\"\"}},\"type\":\"scatterpolargl\"}],\"scatterpolar\":[{\"marker\":{\"colorbar\":{\"outlinewidth\":0,\"ticks\":\"\"}},\"type\":\"scatterpolar\"}],\"scatter\":[{\"marker\":{\"colorbar\":{\"outlinewidth\":0,\"ticks\":\"\"}},\"type\":\"scatter\"}],\"scatterternary\":[{\"marker\":{\"colorbar\":{\"outlinewidth\":0,\"ticks\":\"\"}},\"type\":\"scatterternary\"}],\"surface\":[{\"colorbar\":{\"outlinewidth\":0,\"ticks\":\"\"},\"colorscale\":[[0.0,\"#0d0887\"],[0.1111111111111111,\"#46039f\"],[0.2222222222222222,\"#7201a8\"],[0.3333333333333333,\"#9c179e\"],[0.4444444444444444,\"#bd3786\"],[0.5555555555555556,\"#d8576b\"],[0.6666666666666666,\"#ed7953\"],[0.7777777777777778,\"#fb9f3a\"],[0.8888888888888888,\"#fdca26\"],[1.0,\"#f0f921\"]],\"type\":\"surface\"}],\"table\":[{\"cells\":{\"fill\":{\"color\":\"#EBF0F8\"},\"line\":{\"color\":\"white\"}},\"header\":{\"fill\":{\"color\":\"#C8D4E3\"},\"line\":{\"color\":\"white\"}},\"type\":\"table\"}]},\"layout\":{\"annotationdefaults\":{\"arrowcolor\":\"#2a3f5f\",\"arrowhead\":0,\"arrowwidth\":1},\"autotypenumbers\":\"strict\",\"coloraxis\":{\"colorbar\":{\"outlinewidth\":0,\"ticks\":\"\"}},\"colorscale\":{\"diverging\":[[0,\"#8e0152\"],[0.1,\"#c51b7d\"],[0.2,\"#de77ae\"],[0.3,\"#f1b6da\"],[0.4,\"#fde0ef\"],[0.5,\"#f7f7f7\"],[0.6,\"#e6f5d0\"],[0.7,\"#b8e186\"],[0.8,\"#7fbc41\"],[0.9,\"#4d9221\"],[1,\"#276419\"]],\"sequential\":[[0.0,\"#0d0887\"],[0.1111111111111111,\"#46039f\"],[0.2222222222222222,\"#7201a8\"],[0.3333333333333333,\"#9c179e\"],[0.4444444444444444,\"#bd3786\"],[0.5555555555555556,\"#d8576b\"],[0.6666666666666666,\"#ed7953\"],[0.7777777777777778,\"#fb9f3a\"],[0.8888888888888888,\"#fdca26\"],[1.0,\"#f0f921\"]],\"sequentialminus\":[[0.0,\"#0d0887\"],[0.1111111111111111,\"#46039f\"],[0.2222222222222222,\"#7201a8\"],[0.3333333333333333,\"#9c179e\"],[0.4444444444444444,\"#bd3786\"],[0.5555555555555556,\"#d8576b\"],[0.6666666666666666,\"#ed7953\"],[0.7777777777777778,\"#fb9f3a\"],[0.8888888888888888,\"#fdca26\"],[1.0,\"#f0f921\"]]},\"colorway\":[\"#636efa\",\"#EF553B\",\"#00cc96\",\"#ab63fa\",\"#FFA15A\",\"#19d3f3\",\"#FF6692\",\"#B6E880\",\"#FF97FF\",\"#FECB52\"],\"font\":{\"color\":\"#2a3f5f\"},\"geo\":{\"bgcolor\":\"white\",\"lakecolor\":\"white\",\"landcolor\":\"#E5ECF6\",\"showlakes\":true,\"showland\":true,\"subunitcolor\":\"white\"},\"hoverlabel\":{\"align\":\"left\"},\"hovermode\":\"closest\",\"mapbox\":{\"style\":\"light\"},\"paper_bgcolor\":\"white\",\"plot_bgcolor\":\"#E5ECF6\",\"polar\":{\"angularaxis\":{\"gridcolor\":\"white\",\"linecolor\":\"white\",\"ticks\":\"\"},\"bgcolor\":\"#E5ECF6\",\"radialaxis\":{\"gridcolor\":\"white\",\"linecolor\":\"white\",\"ticks\":\"\"}},\"scene\":{\"xaxis\":{\"backgroundcolor\":\"#E5ECF6\",\"gridcolor\":\"white\",\"gridwidth\":2,\"linecolor\":\"white\",\"showbackground\":true,\"ticks\":\"\",\"zerolinecolor\":\"white\"},\"yaxis\":{\"backgroundcolor\":\"#E5ECF6\",\"gridcolor\":\"white\",\"gridwidth\":2,\"linecolor\":\"white\",\"showbackground\":true,\"ticks\":\"\",\"zerolinecolor\":\"white\"},\"zaxis\":{\"backgroundcolor\":\"#E5ECF6\",\"gridcolor\":\"white\",\"gridwidth\":2,\"linecolor\":\"white\",\"showbackground\":true,\"ticks\":\"\",\"zerolinecolor\":\"white\"}},\"shapedefaults\":{\"line\":{\"color\":\"#2a3f5f\"}},\"ternary\":{\"aaxis\":{\"gridcolor\":\"white\",\"linecolor\":\"white\",\"ticks\":\"\"},\"baxis\":{\"gridcolor\":\"white\",\"linecolor\":\"white\",\"ticks\":\"\"},\"bgcolor\":\"#E5ECF6\",\"caxis\":{\"gridcolor\":\"white\",\"linecolor\":\"white\",\"ticks\":\"\"}},\"title\":{\"x\":0.05},\"xaxis\":{\"automargin\":true,\"gridcolor\":\"white\",\"linecolor\":\"white\",\"ticks\":\"\",\"title\":{\"standoff\":15},\"zerolinecolor\":\"white\",\"zerolinewidth\":2},\"yaxis\":{\"automargin\":true,\"gridcolor\":\"white\",\"linecolor\":\"white\",\"ticks\":\"\",\"title\":{\"standoff\":15},\"zerolinecolor\":\"white\",\"zerolinewidth\":2}}},\"title\":{\"font\":{\"color\":\"#4D5663\"}},\"xaxis\":{\"gridcolor\":\"#E1E5ED\",\"showgrid\":true,\"tickfont\":{\"color\":\"#4D5663\"},\"title\":{\"font\":{\"color\":\"#4D5663\"},\"text\":\"\"},\"zerolinecolor\":\"#E1E5ED\"},\"yaxis\":{\"gridcolor\":\"#E1E5ED\",\"showgrid\":true,\"tickfont\":{\"color\":\"#4D5663\"},\"title\":{\"font\":{\"color\":\"#4D5663\"},\"text\":\"\"},\"zerolinecolor\":\"#E1E5ED\"}},                        {\"showLink\": true, \"linkText\": \"Export to plot.ly\", \"plotlyServerURL\": \"https://plot.ly\", \"responsive\": true}                    ).then(function(){\n",
              "                            \n",
              "var gd = document.getElementById('751979b8-9ccb-44de-b8f4-f448e611353c');\n",
              "var x = new MutationObserver(function (mutations, observer) {{\n",
              "        var display = window.getComputedStyle(gd).display;\n",
              "        if (!display || display === 'none') {{\n",
              "            console.log([gd, 'removed!']);\n",
              "            Plotly.purge(gd);\n",
              "            observer.disconnect();\n",
              "        }}\n",
              "}});\n",
              "\n",
              "// Listen for the removal of the full notebook cells\n",
              "var notebookContainer = gd.closest('#notebook-container');\n",
              "if (notebookContainer) {{\n",
              "    x.observe(notebookContainer, {childList: true});\n",
              "}}\n",
              "\n",
              "// Listen for the clearing of the current output cell\n",
              "var outputEl = gd.closest('.output');\n",
              "if (outputEl) {{\n",
              "    x.observe(outputEl, {childList: true});\n",
              "}}\n",
              "\n",
              "                        })                };                });            </script>        </div>"
            ]
          },
          "metadata": {},
          "output_type": "display_data"
        }
      ],
      "source": [
        "atom.X_train.sort_index()[:100].iplot()"
      ]
    },
    {
      "cell_type": "markdown",
      "id": "76e91e32",
      "metadata": {
        "id": "76e91e32"
      },
      "source": [
        "#### Distribution of distances in transformed dataset"
      ]
    },
    {
      "cell_type": "code",
      "execution_count": null,
      "id": "8641e731",
      "metadata": {
        "ExecuteTime": {
          "end_time": "2022-01-15T21:49:40.928042Z",
          "start_time": "2022-01-15T21:49:24.717263Z"
        },
        "id": "8641e731",
        "outputId": "e664e9f7-8179-4bd0-9287-ff13850b2670"
      },
      "outputs": [
        {
          "data": {
            "image/png": "[encoded data removed]",
            "text/plain": [
              "<Figure size 864x288 with 1 Axes>"
            ]
          },
          "metadata": {
            "image/png": {
              "height": 282,
              "width": 751
            }
          },
          "output_type": "display_data"
        },
        {
          "data": {
            "image/png": "[encoded data removed]",
            "text/plain": [
              "<Figure size 864x288 with 1 Axes>"
            ]
          },
          "metadata": {
            "image/png": {
              "height": 282,
              "width": 727
            }
          },
          "output_type": "display_data"
        }
      ],
      "source": [
        "distr = pdist(atom.X_train[::100].values)\n",
        "fig, ax = plt.subplots()\n",
        "plt.setp(ax, xlabel=\"Distance\")\n",
        "plt.setp(ax, title=\"PDF\")\n",
        "_ = sns.histplot(data=distr, bins=50, kde=True)\n",
        "\n",
        "fig, ax = plt.subplots()\n",
        "plt.setp(ax, xlabel=\"Distance\")\n",
        "plt.setp(ax, title=\"CDF\")\n",
        "_ = sns.histplot(data=distr, bins=50, kde=True, cumulative=True, color=\"g\")"
      ]
    },
    {
      "cell_type": "markdown",
      "id": "e6469bbf",
      "metadata": {
        "id": "e6469bbf"
      },
      "source": [
        "### ATOM prune"
      ]
    },
    {
      "cell_type": "markdown",
      "id": "5a86174e",
      "metadata": {
        "ExecuteTime": {
          "end_time": "2022-01-15T15:55:35.110517Z",
          "start_time": "2022-01-15T15:55:35.035803Z"
        },
        "id": "5a86174e"
      },
      "source": [
        "```\n",
        "ATOM prune methods:  \n",
        "\"z-score\": Uses the z-score of each data value.  \n",
        "\"iForest\": Uses an Isolation Forest.  \n",
        "\"EE\": Uses an Elliptic Envelope.  \n",
        "\"LOF\": Uses a Local Outlier Factor.  \n",
        "\"SVM\": Uses a One-class SVM.  \n",
        "\"DBSCAN\": Uses DBSCAN clustering.  \n",
        "\"OPTICS\": Uses OPTICS clustering.\n",
        "```"
      ]
    },
    {
      "cell_type": "code",
      "execution_count": null,
      "id": "c67159a8",
      "metadata": {
        "ExecuteTime": {
          "end_time": "2022-01-15T21:47:03.344991Z",
          "start_time": "2022-01-15T21:47:03.343184Z"
        },
        "id": "c67159a8"
      },
      "outputs": [],
      "source": [
        "# pruner=Pruner(strategy=\"z-score\")#,index=\"ID\")\n",
        "# data = atom.X_train\n",
        "# data_pr = pruner.transform(data)\n",
        "# print(data_pr.shape)\n",
        "# # merged = data_pr.merge(data, left_index=True, right_index=True,\n",
        "# #                        indicator=True, how='outer').loc[lambda x : x['_merge']=='right_only']\n",
        "# diff=pd.concat([data_pr,data]).drop_duplicates(keep=False)\n",
        "# diff.shape\n",
        "# # outliers = merged[merged.loc[:,\"_merge\"]==\"right_only\"].index#[[\"ID\"]]#,\"_merge\"]]\n",
        "# # merged.shape\n",
        "# # atom.X_train.loc[outliers].shape\n",
        "# # outliers\n",
        "# diff.head()"
      ]
    },
    {
      "cell_type": "code",
      "execution_count": null,
      "id": "d421c2e8",
      "metadata": {
        "ExecuteTime": {
          "end_time": "2022-01-15T21:47:39.238774Z",
          "start_time": "2022-01-15T21:47:39.227965Z"
        },
        "id": "d421c2e8",
        "outputId": "d56c24c7-3d68-4c8a-a797-9faa5a41cee2"
      },
      "outputs": [
        {
          "data": {
            "text/plain": [
              "213606"
            ]
          },
          "execution_count": 23,
          "metadata": {},
          "output_type": "execute_result"
        }
      ],
      "source": [
        "atom.X_train.shape[0]"
      ]
    },
    {
      "cell_type": "code",
      "execution_count": null,
      "id": "a79135d8",
      "metadata": {
        "id": "a79135d8",
        "outputId": "e069879a-fd82-4099-851e-6688bd0f1dda"
      },
      "outputs": [
        {
          "name": "stdout",
          "output_type": "stream",
          "text": [
            "Composition of classes:\n",
            "-----------------------\n",
            "0    213235\n",
            "1       371\n",
            "Name: Class, dtype: int64\n",
            "\n",
            "\n",
            "Percentages:\n",
            "------------\n",
            "0    0.9983\n",
            "1    0.0017\n",
            "Name: Class, dtype: float64\n"
          ]
        }
      ],
      "source": [
        "print(f\"Composition of classes:\\n-----------------------\\n{atom.y_train.value_counts()}\\n\\n\")\n",
        "print(f\"Percentages:\\n------------\\n{atom.y_train.value_counts(normalize=True)}\")"
      ]
    },
    {
      "cell_type": "markdown",
      "id": "db13aa42",
      "metadata": {
        "id": "db13aa42"
      },
      "source": [
        "### Quality check function"
      ]
    },
    {
      "cell_type": "code",
      "execution_count": null,
      "id": "6a030f37",
      "metadata": {
        "id": "6a030f37"
      },
      "outputs": [],
      "source": [
        "crs = []\n",
        "def quality_check(y_true, yhat, name):\n",
        "    print(\"Confusion matrix:\\n\")\n",
        "    cm = confusion_matrix(y_true, yhat)#, normalize=\"all\")\n",
        "    print(cm)\n",
        "    disp = ConfusionMatrixDisplay(cm)#.from_predictions\n",
        "    disp.plot()\n",
        "    plt.show()\n",
        "    print(\"\\n-----------------------------------------------------\")\n",
        "    print(\"\\nClassification report:\\n\")\n",
        "    cr = classification_report(y_true, yhat)\n",
        "    print(cr)\n",
        "    crs.append({name: cr})"
      ]
    },
    {
      "cell_type": "markdown",
      "id": "a3d9bd18",
      "metadata": {
        "id": "a3d9bd18"
      },
      "source": [
        "### Outliers search"
      ]
    },
    {
      "cell_type": "code",
      "execution_count": null,
      "id": "007bb49a",
      "metadata": {
        "ExecuteTime": {
          "end_time": "2022-01-15T21:47:39.226162Z",
          "start_time": "2022-01-15T21:47:03.346089Z"
        },
        "id": "007bb49a"
      },
      "outputs": [],
      "source": [
        "def find_outliers(data, method, **p):\n",
        "#     data_copy = data.copy()\n",
        "    pruner=Pruner(strategy=method, **p)\n",
        "    data_pr = pruner.transform(data)#(data_copy)\n",
        "#     print(f\"{method}: {data_pr.shape[0]}\")\n",
        "#     merged = data_pr.merge(data_copy, left_index=True, right_index=True,\n",
        "#                        indicator=True, how='outer',sort=True).loc[lambda x : x['_merge']!='both']\n",
        "#     outliers = merged[merged.loc[:,\"_merge\"]==\"right_only\"].index\n",
        "    outliers=pd.concat([data_pr, data]).drop_duplicates(keep=False).index #data_copy\n",
        "#     print(outliers.shape[0])\n",
        "#     return data.loc[outliers]\n",
        "#     result_X = data.iloc[outliers] #data_copy\n",
        "    result_y = pd.DataFrame(np.zeros(data.shape[0])) #data_copy\n",
        "    result_y.iloc[outliers] = 1 \n",
        "    return result_y\n",
        "\n",
        "# for m in methods:\n",
        "#     print(f\"{m:>8}: {find_outliers(atom.X_train, m).shape[0]:5d} outliers\")"
      ]
    },
    {
      "cell_type": "code",
      "execution_count": null,
      "id": "fde23d93",
      "metadata": {
        "ExecuteTime": {
          "end_time": "2022-01-15T21:47:39.341275Z",
          "start_time": "2022-01-15T21:47:39.240575Z"
        },
        "scrolled": true,
        "id": "fde23d93",
        "outputId": "56fb4d33-59a5-423b-a07b-7d806ff18759"
      },
      "outputs": [
        {
          "name": "stdout",
          "output_type": "stream",
          "text": [
            "2160 outliers\n",
            "\n",
            "Confusion matrix:\n",
            "\n",
            "[[211081   2154]\n",
            " [   365      6]]\n"
          ]
        },
        {
          "data": {
            "image/png": "[encoded data removed]",
            "text/plain": [
              "<Figure size 864x288 with 2 Axes>"
            ]
          },
          "metadata": {
            "image/png": {
              "height": 267,
              "width": 360
            }
          },
          "output_type": "display_data"
        },
        {
          "name": "stdout",
          "output_type": "stream",
          "text": [
            "\n",
            "-----------------------------------------------------\n",
            "\n",
            "Classification report:\n",
            "\n",
            "              precision    recall  f1-score   support\n",
            "\n",
            "           0       1.00      0.99      0.99    213235\n",
            "           1       0.00      0.02      0.00       371\n",
            "\n",
            "    accuracy                           0.99    213606\n",
            "   macro avg       0.50      0.50      0.50    213606\n",
            "weighted avg       1.00      0.99      0.99    213606\n",
            "\n"
          ]
        }
      ],
      "source": [
        "zscore = find_outliers(atom.X_train, \"z-score\", max_sigma=5)#.shape[0]\n",
        "print(f'{zscore.value_counts()[1]} outliers\\n')\n",
        "quality_check(atom.y_train, zscore, name=\"zscore\")"
      ]
    },
    {
      "cell_type": "markdown",
      "id": "7968d064",
      "metadata": {
        "id": "7968d064"
      },
      "source": [
        "```\n",
        "class sklearn.ensemble.IsolationForest(*, n_estimators=100, max_samples='auto', contamination='auto', max_features=1.0, bootstrap=False, n_jobs=None, random_state=None, verbose=0, warm_start=False)\n",
        "```"
      ]
    },
    {
      "cell_type": "code",
      "execution_count": null,
      "id": "b300f74c",
      "metadata": {
        "ExecuteTime": {
          "end_time": "2022-01-15T21:47:39.799523Z",
          "start_time": "2022-01-15T21:47:39.342678Z"
        },
        "id": "b300f74c",
        "outputId": "150e4001-63fe-4e5e-8531-116789d0d5b1"
      },
      "outputs": [
        {
          "name": "stdout",
          "output_type": "stream",
          "text": [
            "3631 outliers\n",
            "\n",
            "Confusion matrix:\n",
            "\n",
            "[[209611   3624]\n",
            " [   364      7]]\n"
          ]
        },
        {
          "data": {
            "image/png": "[encoded data removed]",
            "text/plain": [
              "<Figure size 864x288 with 2 Axes>"
            ]
          },
          "metadata": {
            "image/png": {
              "height": 267,
              "width": 360
            }
          },
          "output_type": "display_data"
        },
        {
          "name": "stdout",
          "output_type": "stream",
          "text": [
            "\n",
            "-----------------------------------------------------\n",
            "\n",
            "Classification report:\n",
            "\n",
            "              precision    recall  f1-score   support\n",
            "\n",
            "           0       1.00      0.98      0.99    213235\n",
            "           1       0.00      0.02      0.00       371\n",
            "\n",
            "    accuracy                           0.98    213606\n",
            "   macro avg       0.50      0.50      0.50    213606\n",
            "weighted avg       1.00      0.98      0.99    213606\n",
            "\n"
          ]
        }
      ],
      "source": [
        "iforest = find_outliers(atom.X_train, \"iForest\", n_estimators=100, \n",
        "                        contamination=0.0017, max_features=1.0, bootstrap=False, \n",
        "                        n_jobs=njobs, random_state=random_state)\n",
        "print(f'{iforest.value_counts()[1]} outliers\\n')\n",
        "quality_check(atom.y_train, iforest, name=\"iforest\")"
      ]
    },
    {
      "cell_type": "markdown",
      "id": "caf5de26",
      "metadata": {
        "id": "caf5de26"
      },
      "source": [
        "```\n",
        "class sklearn.cluster.OPTICS(*, min_samples=5, max_eps=inf, metric='minkowski', p=2, metric_params=None, cluster_method='xi', eps=None, xi=0.05, predecessor_correction=True, min_cluster_size=None, algorithm='auto', leaf_size=30, memory=None, n_jobs=None\n",
        "```"
      ]
    },
    {
      "cell_type": "code",
      "execution_count": null,
      "id": "c3074749",
      "metadata": {
        "id": "c3074749"
      },
      "outputs": [],
      "source": [
        "%%script false --no-raise-error\n",
        "\n",
        "optics = find_outliers(atom.X_train, \"OPTICS\", min_samples=5, max_eps=2.0, eps=1.0, xi=0.05,  \n",
        "                       predecessor_correction=True, min_cluster_size=15, leaf_size=30, \n",
        "                       memory=\"./cache\", n_jobs=njobs)#.shape[0] #,\n",
        "print(f'{optics.value_counts()[1]} outliers')\n",
        "quality_check(atom.y_train, optics, name=\"optics\")"
      ]
    },
    {
      "cell_type": "markdown",
      "id": "c0200930",
      "metadata": {
        "id": "c0200930"
      },
      "source": [
        "```\n",
        "class sklearn.covariance.EllipticEnvelope(*, store_precision=True, assume_centered=False, support_fraction=None, contamination=0.1, random_state=None)\n",
        "```"
      ]
    },
    {
      "cell_type": "code",
      "execution_count": null,
      "id": "a3348804",
      "metadata": {
        "id": "a3348804",
        "outputId": "22a75e1d-a82d-4148-cd69-b72e34d00e9f"
      },
      "outputs": [
        {
          "name": "stdout",
          "output_type": "stream",
          "text": [
            "3632 outliers\n",
            "Confusion matrix:\n",
            "\n",
            "[[209610   3625]\n",
            " [   364      7]]\n"
          ]
        },
        {
          "data": {
            "image/png": "[encoded data removed]",
            "text/plain": [
              "<Figure size 864x288 with 2 Axes>"
            ]
          },
          "metadata": {
            "image/png": {
              "height": 267,
              "width": 360
            }
          },
          "output_type": "display_data"
        },
        {
          "name": "stdout",
          "output_type": "stream",
          "text": [
            "\n",
            "-----------------------------------------------------\n",
            "\n",
            "Classification report:\n",
            "\n",
            "              precision    recall  f1-score   support\n",
            "\n",
            "           0       1.00      0.98      0.99    213235\n",
            "           1       0.00      0.02      0.00       371\n",
            "\n",
            "    accuracy                           0.98    213606\n",
            "   macro avg       0.50      0.50      0.50    213606\n",
            "weighted avg       1.00      0.98      0.99    213606\n",
            "\n"
          ]
        }
      ],
      "source": [
        "ee = find_outliers(atom.X_train, \"EE\", contamination=0.017, random_state=random_state)\n",
        "print(f'{ee.value_counts()[1]} outliers')\n",
        "quality_check(atom.y_train, ee, name=\"ee\")"
      ]
    },
    {
      "cell_type": "markdown",
      "id": "f4684ecb",
      "metadata": {
        "id": "f4684ecb"
      },
      "source": [
        "```\n",
        "class sklearn.neighbors.LocalOutlierFactor(n_neighbors=20, *, algorithm='auto', leaf_size=30, metric='minkowski', p=2, metric_params=None, contamination='auto', novelty=False, n_jobs=None)\n",
        "```"
      ]
    },
    {
      "cell_type": "code",
      "execution_count": null,
      "id": "363f1da5",
      "metadata": {
        "id": "363f1da5",
        "outputId": "3a628daa-775a-4fa9-a28b-14e120aef18e"
      },
      "outputs": [
        {
          "name": "stdout",
          "output_type": "stream",
          "text": [
            "3632 outliers\n",
            "Confusion matrix:\n",
            "\n",
            "[[209608   3627]\n",
            " [   366      5]]\n"
          ]
        },
        {
          "data": {
            "image/png": "[encoded data removed]",
            "text/plain": [
              "<Figure size 864x288 with 2 Axes>"
            ]
          },
          "metadata": {
            "image/png": {
              "height": 267,
              "width": 360
            }
          },
          "output_type": "display_data"
        },
        {
          "name": "stdout",
          "output_type": "stream",
          "text": [
            "\n",
            "-----------------------------------------------------\n",
            "\n",
            "Classification report:\n",
            "\n",
            "              precision    recall  f1-score   support\n",
            "\n",
            "           0       1.00      0.98      0.99    213235\n",
            "           1       0.00      0.01      0.00       371\n",
            "\n",
            "    accuracy                           0.98    213606\n",
            "   macro avg       0.50      0.50      0.50    213606\n",
            "weighted avg       1.00      0.98      0.99    213606\n",
            "\n"
          ]
        }
      ],
      "source": [
        "lof = find_outliers(atom.X_train, \"LOF\", contamination=0.017, n_jobs=njobs)\n",
        "print(f'{lof.value_counts()[1]} outliers')\n",
        "quality_check(atom.y_train, lof, name=\"lof\")"
      ]
    },
    {
      "cell_type": "markdown",
      "id": "52023c38",
      "metadata": {
        "id": "52023c38"
      },
      "source": [
        "```\n",
        "class sklearn.svm.OneClassSVM(*, kernel='rbf', degree=3, gamma='scale', coef0=0.0, tol=0.001, nu=0.5, shrinking=True, cache_size=200, verbose=False, max_iter=- 1)\n",
        "```"
      ]
    },
    {
      "cell_type": "code",
      "execution_count": null,
      "id": "b990a661",
      "metadata": {
        "id": "b990a661",
        "outputId": "737048d4-b30d-4522-c0ca-da9fa9f54254"
      },
      "outputs": [
        {
          "name": "stdout",
          "output_type": "stream",
          "text": [
            "3635 outliers\n",
            "Confusion matrix:\n",
            "\n",
            "[[209606   3629]\n",
            " [   365      6]]\n"
          ]
        },
        {
          "data": {
            "image/png": "[encoded data removed]",
            "text/plain": [
              "<Figure size 864x288 with 2 Axes>"
            ]
          },
          "metadata": {
            "image/png": {
              "height": 267,
              "width": 360
            }
          },
          "output_type": "display_data"
        },
        {
          "name": "stdout",
          "output_type": "stream",
          "text": [
            "\n",
            "-----------------------------------------------------\n",
            "\n",
            "Classification report:\n",
            "\n",
            "              precision    recall  f1-score   support\n",
            "\n",
            "           0       1.00      0.98      0.99    213235\n",
            "           1       0.00      0.02      0.00       371\n",
            "\n",
            "    accuracy                           0.98    213606\n",
            "   macro avg       0.50      0.50      0.50    213606\n",
            "weighted avg       1.00      0.98      0.99    213606\n",
            "\n"
          ]
        }
      ],
      "source": [
        "svm = find_outliers(atom.X_train,\"SVM\", nu=0.017)\n",
        "print(f'{svm.value_counts()[1]} outliers')\n",
        "quality_check(atom.y_train, svm, name=\"svm\")"
      ]
    },
    {
      "cell_type": "markdown",
      "source": [
        "It seems that all reports are misleading: ATOM reindexes data after application of estimators, including *pruner*. As a result, the count of detected outliers is wrong."
      ],
      "metadata": {
        "id": "dgHkt6ITs58F"
      },
      "id": "dgHkt6ITs58F"
    },
    {
      "cell_type": "code",
      "source": [
        ""
      ],
      "metadata": {
        "id": "kdXsQxkctgP2"
      },
      "id": "kdXsQxkctgP2",
      "execution_count": null,
      "outputs": []
    }
  ],
  "metadata": {
    "kernelspec": {
      "display_name": "Python 3 (ipykernel)",
      "language": "python",
      "name": "python3"
    },
    "language_info": {
      "codemirror_mode": {
        "name": "ipython",
        "version": 3
      },
      "file_extension": ".py",
      "mimetype": "text/x-python",
      "name": "python",
      "nbconvert_exporter": "python",
      "pygments_lexer": "ipython3",
      "version": "3.8.12"
    },
    "toc": {
      "base_numbering": 1,
      "nav_menu": {},
      "number_sections": true,
      "sideBar": true,
      "skip_h1_title": true,
      "title_cell": "Table of Contents",
      "title_sidebar": "Contents",
      "toc_cell": false,
      "toc_position": {},
      "toc_section_display": true,
      "toc_window_display": false
    },
    "colab": {
      "name": "otus_pro_hw3_atom.ipynb",
      "provenance": []
    }
  },
  "nbformat": 4,
  "nbformat_minor": 5
}